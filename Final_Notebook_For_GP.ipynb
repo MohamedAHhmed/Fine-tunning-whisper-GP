{
  "cells": [
    {
      "cell_type": "markdown",
      "id": "75b58048-7d14-4fc6-8085-1fc08c81b4a6",
      "metadata": {
        "id": "75b58048-7d14-4fc6-8085-1fc08c81b4a6"
      },
      "source": [
        "# Fine-Tune Whisper For Multilingual ASR with 🤗 Transformers"
      ]
    },
    {
      "cell_type": "markdown",
      "id": "fbfa8ad5-4cdc-4512-9058-836cbbf65e1a",
      "metadata": {
        "id": "fbfa8ad5-4cdc-4512-9058-836cbbf65e1a"
      },
      "source": [
        "In this Colab, we present a step-by-step guide on how to fine-tune Whisper\n",
        "for any multilingual ASR dataset using Hugging Face 🤗 Transformers. This is a\n",
        "more \"hands-on\" version of the accompanying [blog post](https://huggingface.co/blog/fine-tune-whisper).\n",
        "For a more in-depth explanation of Whisper, the Common Voice dataset and the theory behind fine-tuning, the reader is advised to refer to the blog post."
      ]
    },
    {
      "cell_type": "markdown",
      "id": "afe0d503-ae4e-4aa7-9af4-dbcba52db41e",
      "metadata": {
        "id": "afe0d503-ae4e-4aa7-9af4-dbcba52db41e"
      },
      "source": [
        "## Introduction"
      ]
    },
    {
      "cell_type": "markdown",
      "id": "9ae91ed4-9c3e-4ade-938e-f4c2dcfbfdc0",
      "metadata": {
        "id": "9ae91ed4-9c3e-4ade-938e-f4c2dcfbfdc0"
      },
      "source": [
        "Whisper is a pre-trained model for automatic speech recognition (ASR)\n",
        "published in [September 2022](https://openai.com/blog/whisper/) by the authors\n",
        "Alec Radford et al. from OpenAI. Unlike many of its predecessors, such as\n",
        "[Wav2Vec 2.0](https://arxiv.org/abs/2006.11477), which are pre-trained\n",
        "on un-labelled audio data, Whisper is pre-trained on a vast quantity of\n",
        "**labelled** audio-transcription data, 680,000 hours to be precise.\n",
        "This is an order of magnitude more data than the un-labelled audio data used\n",
        "to train Wav2Vec 2.0 (60,000 hours). What is more, 117,000 hours of this\n",
        "pre-training data is multilingual ASR data. This results in checkpoints\n",
        "that can be applied to over 96 languages, many of which are considered\n",
        "_low-resource_.\n",
        "\n",
        "When scaled to 680,000 hours of labelled pre-training data, Whisper models\n",
        "demonstrate a strong ability to generalise to many datasets and domains.\n",
        "The pre-trained checkpoints achieve competitive results to state-of-the-art\n",
        "ASR systems, with near 3% word error rate (WER) on the test-clean subset of\n",
        "LibriSpeech ASR and a new state-of-the-art on TED-LIUM with 4.7% WER (_c.f._\n",
        "Table 8 of the [Whisper paper](https://cdn.openai.com/papers/whisper.pdf)).\n",
        "The extensive multilingual ASR knowledge acquired by Whisper during pre-training\n",
        "can be leveraged for other low-resource languages; through fine-tuning, the\n",
        "pre-trained checkpoints can be adapted for specific datasets and languages\n",
        "to further improve upon these results. We'll show just how Whisper can be fine-tuned\n",
        "for low-resource languages in this Colab."
      ]
    },
    {
      "cell_type": "markdown",
      "id": "e59b91d6-be24-4b5e-bb38-4977ea143a72",
      "metadata": {
        "id": "e59b91d6-be24-4b5e-bb38-4977ea143a72"
      },
      "source": [
        "<figure>\n",
        "<img src=\"https://raw.githubusercontent.com/sanchit-gandhi/notebooks/main/whisper_architecture.svg\" alt=\"Trulli\" style=\"width:100%\">\n",
        "<figcaption align = \"center\"><b>Figure 1:</b> Whisper model. The architecture\n",
        "follows the standard Transformer-based encoder-decoder model. A\n",
        "log-Mel spectrogram is input to the encoder. The last encoder\n",
        "hidden states are input to the decoder via cross-attention mechanisms. The\n",
        "decoder autoregressively predicts text tokens, jointly conditional on the\n",
        "encoder hidden states and previously predicted tokens. Figure source:\n",
        "<a href=\"https://openai.com/blog/whisper/\">OpenAI Whisper Blog</a>.</figcaption>\n",
        "</figure>"
      ]
    },
    {
      "cell_type": "markdown",
      "id": "21b6316e-8a55-4549-a154-66d3da2ab74a",
      "metadata": {
        "id": "21b6316e-8a55-4549-a154-66d3da2ab74a"
      },
      "source": [
        "The Whisper checkpoints come in five configurations of varying model sizes.\n",
        "The smallest four are trained on either English-only or multilingual data.\n",
        "The largest checkpoints are multilingual only. All 11 of the pre-trained checkpoints\n",
        "are available on the [Hugging Face Hub](https://huggingface.co/models?search=openai/whisper). The\n",
        "checkpoints are summarised in the following table with links to the models on the Hub:\n",
        "\n",
        "| Size     | Layers | Width | Heads | Parameters | English-only                                         | Multilingual                                        |\n",
        "|----------|--------|-------|-------|------------|------------------------------------------------------|-----------------------------------------------------|\n",
        "| tiny     | 4      | 384   | 6     | 39 M       | [✓](https://huggingface.co/openai/whisper-tiny.en)   | [✓](https://huggingface.co/openai/whisper-tiny.)    |\n",
        "| base     | 6      | 512   | 8     | 74 M       | [✓](https://huggingface.co/openai/whisper-base.en)   | [✓](https://huggingface.co/openai/whisper-base)     |\n",
        "| small    | 12     | 768   | 12    | 244 M      | [✓](https://huggingface.co/openai/whisper-small.en)  | [✓](https://huggingface.co/openai/whisper-small)    |\n",
        "| medium   | 24     | 1024  | 16    | 769 M      | [✓](https://huggingface.co/openai/whisper-medium.en) | [✓](https://huggingface.co/openai/whisper-medium)   |\n",
        "| large    | 32     | 1280  | 20    | 1550 M     | x                                                    | [✓](https://huggingface.co/openai/whisper-large)    |\n",
        "| large-v2 | 32     | 1280  | 20    | 1550 M     | x                                                    | [✓](https://huggingface.co/openai/whisper-large-v2) |\n",
        "| large-v3 | 32     | 1280  | 20    | 1550 M     | x                                                    | [✓](https://huggingface.co/openai/whisper-large-v3) |\n",
        "\n",
        "\n",
        "For demonstration purposes, we'll fine-tune the multilingual version of the\n",
        "[`\"small\"`](https://huggingface.co/openai/whisper-small) checkpoint with 244M params (~= 1GB).\n",
        "As for our data, we'll train and evaluate our system on a low-resource language\n",
        "taken from the [Common Voice](https://huggingface.co/datasets/mozilla-foundation/common_voice_11_0)\n",
        "dataset. We'll show that with as little as 8 hours of fine-tuning data, we can achieve\n",
        "strong performance in this language."
      ]
    },
    {
      "cell_type": "markdown",
      "id": "3a680dfc-cbba-4f6c-8a1f-e1a5ff3f123a",
      "metadata": {
        "id": "3a680dfc-cbba-4f6c-8a1f-e1a5ff3f123a"
      },
      "source": [
        "------------------------------------------------------------------------\n",
        "\n",
        "\\\\({}^1\\\\) The name Whisper follows from the acronym “WSPSR”, which stands for “Web-scale Supervised Pre-training for Speech Recognition”."
      ]
    },
    {
      "cell_type": "markdown",
      "id": "55fb8d21-df06-472a-99dd-b59567be6dad",
      "metadata": {
        "id": "55fb8d21-df06-472a-99dd-b59567be6dad"
      },
      "source": [
        "## Prepare Environment"
      ]
    },
    {
      "cell_type": "markdown",
      "id": "844a4861-929c-4762-b29b-80b1e95aba4b",
      "metadata": {
        "id": "844a4861-929c-4762-b29b-80b1e95aba4b"
      },
      "source": [
        "First of all, let's try to secure a decent GPU for our Colab! Unfortunately, it's becoming much harder to get access to a good GPU with the free version of Google Colab. However, with Google Colab Pro one should have no issues in being allocated a V100 or P100 GPU.\n",
        "\n",
        "To get a GPU, click _Runtime_ -> _Change runtime type_, then change _Hardware accelerator_ from _CPU_ to one of the available GPUs, e.g. _T4_ (or better if you have one available). Next, click `Connect T4` in the top right-hand corner of your screen (or `Connect {V100, A100}` if you selected a different GPU)."
      ]
    },
    {
      "cell_type": "markdown",
      "id": "9abea5d7-9d54-434b-a6bd-399d1b3c6c1a",
      "metadata": {
        "id": "9abea5d7-9d54-434b-a6bd-399d1b3c6c1a"
      },
      "source": [
        "We can verify that we've been assigned a GPU and view its specifications:"
      ]
    },
    {
      "cell_type": "code",
      "execution_count": null,
      "id": "95048026-a3b7-43f0-a274-1bad65e407b4",
      "metadata": {
        "execution": {
          "iopub.execute_input": "2025-03-12T17:09:14.267987Z",
          "iopub.status.busy": "2025-03-12T17:09:14.267665Z",
          "iopub.status.idle": "2025-03-12T17:09:14.328541Z",
          "shell.execute_reply": "2025-03-12T17:09:14.327521Z",
          "shell.execute_reply.started": "2025-03-12T17:09:14.267965Z"
        },
        "id": "95048026-a3b7-43f0-a274-1bad65e407b4",
        "outputId": "afca66fa-fa25-4219-b01f-003ff0825f5d",
        "trusted": true
      },
      "outputs": [
        {
          "name": "stdout",
          "output_type": "stream",
          "text": [
            "Wed Mar 12 17:09:14 2025       \n",
            "+-----------------------------------------------------------------------------------------+\n",
            "| NVIDIA-SMI 560.35.03              Driver Version: 560.35.03      CUDA Version: 12.6     |\n",
            "|-----------------------------------------+------------------------+----------------------+\n",
            "| GPU  Name                 Persistence-M | Bus-Id          Disp.A | Volatile Uncorr. ECC |\n",
            "| Fan  Temp   Perf          Pwr:Usage/Cap |           Memory-Usage | GPU-Util  Compute M. |\n",
            "|                                         |                        |               MIG M. |\n",
            "|=========================================+========================+======================|\n",
            "|   0  Tesla P100-PCIE-16GB           Off |   00000000:00:04.0 Off |                    0 |\n",
            "| N/A   34C    P0             26W /  250W |       0MiB /  16384MiB |      0%      Default |\n",
            "|                                         |                        |                  N/A |\n",
            "+-----------------------------------------+------------------------+----------------------+\n",
            "                                                                                         \n",
            "+-----------------------------------------------------------------------------------------+\n",
            "| Processes:                                                                              |\n",
            "|  GPU   GI   CI        PID   Type   Process name                              GPU Memory |\n",
            "|        ID   ID                                                               Usage      |\n",
            "|=========================================================================================|\n",
            "|  No running processes found                                                             |\n",
            "+-----------------------------------------------------------------------------------------+\n"
          ]
        }
      ],
      "source": [
        "gpu_info = !nvidia-smi\n",
        "gpu_info = '\\n'.join(gpu_info)\n",
        "if gpu_info.find('failed') >= 0:\n",
        "  print('Not connected to a GPU')\n",
        "else:\n",
        "  print(gpu_info)"
      ]
    },
    {
      "cell_type": "markdown",
      "id": "1d85d613-1c7e-46ac-9134-660bbe7ebc9d",
      "metadata": {
        "id": "1d85d613-1c7e-46ac-9134-660bbe7ebc9d"
      },
      "source": [
        "We'll employ several popular Python packages to fine-tune the Whisper model.\n",
        "We'll use `datasets[audio]` to download and prepare our training data, alongside\n",
        "`transformers` and `accelerate` to load and train our Whisper model.\n",
        "We'll also require the `soundfile` package to pre-process audio files,\n",
        "`evaluate` and `jiwer` to assess the performance of our model, and\n",
        "`tensorboard` to log our metrics. Finally, we'll use `gradio` to build a\n",
        "flashy demo of our fine-tuned model."
      ]
    },
    {
      "cell_type": "code",
      "execution_count": null,
      "id": "e68ea9f8-9b61-414e-8885-3033b67c2850",
      "metadata": {
        "execution": {
          "iopub.execute_input": "2025-03-12T17:09:19.416135Z",
          "iopub.status.busy": "2025-03-12T17:09:19.415741Z",
          "iopub.status.idle": "2025-03-12T17:09:52.159560Z",
          "shell.execute_reply": "2025-03-12T17:09:52.158497Z",
          "shell.execute_reply.started": "2025-03-12T17:09:19.416107Z"
        },
        "id": "e68ea9f8-9b61-414e-8885-3033b67c2850",
        "outputId": "7517a10f-a706-4d54-d9b1-191127bba1b8",
        "trusted": true
      },
      "outputs": [
        {
          "name": "stdout",
          "output_type": "stream",
          "text": [
            "\u001b[2K   \u001b[90m━━━━━━━━━━━━━━━━━━━━━━━━━━━━━━━━━━━━━━━━\u001b[0m \u001b[32m1.8/1.8 MB\u001b[0m \u001b[31m20.1 MB/s\u001b[0m eta \u001b[36m0:00:00\u001b[0m00:01\u001b[0m0:01\u001b[0m\n",
            "\u001b[2K   \u001b[90m━━━━━━━━━━━━━━━━━━━━━━━━━━━━━━━━━━━━━━━━\u001b[0m \u001b[32m10.0/10.0 MB\u001b[0m \u001b[31m86.2 MB/s\u001b[0m eta \u001b[36m0:00:00\u001b[0m\n",
            "\u001b[2K   \u001b[90m━━━━━━━━━━━━━━━━━━━━━━━━━━━━━━━━━━━━━━━━\u001b[0m \u001b[32m5.5/5.5 MB\u001b[0m \u001b[31m96.6 MB/s\u001b[0m eta \u001b[36m0:00:00\u001b[0m\n",
            "\u001b[2K   \u001b[90m━━━━━━━━━━━━━━━━━━━━━━━━━━━━━━━━━━━━━━━━\u001b[0m \u001b[32m62.3/62.3 MB\u001b[0m \u001b[31m74.4 MB/s\u001b[0m eta \u001b[36m0:00:00\u001b[0m:00:01\u001b[0m00:01\u001b[0m\n",
            "\u001b[2K   \u001b[90m━━━━━━━━━━━━━━━━━━━━━━━━━━━━━━━━━━━━━━━━\u001b[0m \u001b[32m3.1/3.1 MB\u001b[0m \u001b[31m84.2 MB/s\u001b[0m eta \u001b[36m0:00:00\u001b[0m\n",
            "\u001b[2K   \u001b[90m━━━━━━━━━━━━━━━━━━━━━━━━━━━━━━━━━━━━━━━━\u001b[0m \u001b[32m11.3/11.3 MB\u001b[0m \u001b[31m123.7 MB/s\u001b[0m eta \u001b[36m0:00:00\u001b[0m\n",
            "\u001b[?25h\u001b[31mERROR: pip's dependency resolver does not currently take into account all the packages that are installed. This behaviour is the source of the following dependency conflicts.\n",
            "tensorflow 2.17.1 requires tensorboard<2.18,>=2.17, but you have tensorboard 2.19.0 which is incompatible.\n",
            "tensorflow-decision-forests 1.10.0 requires tensorflow==2.17.0, but you have tensorflow 2.17.1 which is incompatible.\u001b[0m\u001b[31m\n",
            "\u001b[0m"
          ]
        }
      ],
      "source": [
        "!pip install --upgrade --quiet pip\n",
        "!pip install --upgrade --quiet datasets[audio] transformers accelerate evaluate jiwer tensorboard gradio"
      ]
    },
    {
      "cell_type": "markdown",
      "id": "1f60d173-8de1-4ed7-bc9a-d281cf237203",
      "metadata": {
        "id": "1f60d173-8de1-4ed7-bc9a-d281cf237203"
      },
      "source": [
        "We strongly advise you to upload model checkpoints directly the [Hugging Face Hub](https://huggingface.co/)\n",
        "whilst training. The Hub provides:\n",
        "- Integrated version control: you can be sure that no model checkpoint is lost during training.\n",
        "- Tensorboard logs: track important metrics over the course of training.\n",
        "- Model cards: document what a model does and its intended use cases.\n",
        "- Community: an easy way to share and collaborate with the community!\n",
        "\n",
        "Linking the notebook to the Hub is straightforward - it simply requires entering your\n",
        "Hub authentication token when prompted. Find your Hub authentication token [here](https://huggingface.co/settings/tokens):"
      ]
    },
    {
      "cell_type": "code",
      "execution_count": null,
      "id": "e3a665f5-ccbe-491e-a1a7-0ae2ed32b2b2",
      "metadata": {
        "execution": {
          "iopub.execute_input": "2025-03-12T17:10:07.546440Z",
          "iopub.status.busy": "2025-03-12T17:10:07.546094Z",
          "iopub.status.idle": "2025-03-12T17:10:07.687497Z",
          "shell.execute_reply": "2025-03-12T17:10:07.686043Z",
          "shell.execute_reply.started": "2025-03-12T17:10:07.546395Z"
        },
        "id": "e3a665f5-ccbe-491e-a1a7-0ae2ed32b2b2",
        "trusted": true
      },
      "outputs": [],
      "source": [
        "!git config --global credential.helper store\n"
      ]
    },
    {
      "cell_type": "code",
      "execution_count": null,
      "id": "f360a68e-b053-4626-88ef-8d434aa7e751",
      "metadata": {
        "execution": {
          "iopub.execute_input": "2025-03-12T17:10:09.088577Z",
          "iopub.status.busy": "2025-03-12T17:10:09.088223Z",
          "iopub.status.idle": "2025-03-12T17:10:21.377117Z",
          "shell.execute_reply": "2025-03-12T17:10:21.375850Z",
          "shell.execute_reply.started": "2025-03-12T17:10:09.088548Z"
        },
        "id": "f360a68e-b053-4626-88ef-8d434aa7e751",
        "outputId": "9947a566-4b45-46c2-d675-38dc02f49e99",
        "trusted": true
      },
      "outputs": [
        {
          "name": "stdout",
          "output_type": "stream",
          "text": [
            "Reading package lists... Done\n",
            "Building dependency tree... Done\n",
            "Reading state information... Done\n",
            "Suggested packages:\n",
            "  gettext-base git-daemon-run | git-daemon-sysvinit git-doc git-email git-gui gitk gitweb git-cvs\n",
            "  git-mediawiki git-svn\n",
            "The following packages will be upgraded:\n",
            "  git\n",
            "1 upgraded, 0 newly installed, 0 to remove and 128 not upgraded.\n",
            "Need to get 3,165 kB of archives.\n",
            "After this operation, 4,096 B of additional disk space will be used.\n",
            "Get:1 http://archive.ubuntu.com/ubuntu jammy-updates/main amd64 git amd64 1:2.34.1-1ubuntu1.12 [3,165 kB]\n",
            "Fetched 3,165 kB in 1s (5,200 kB/s)\n",
            "(Reading database ... 127400 files and directories currently installed.)\n",
            "Preparing to unpack .../git_1%3a2.34.1-1ubuntu1.12_amd64.deb ...\n",
            "Unpacking git (1:2.34.1-1ubuntu1.12) over (1:2.34.1-1ubuntu1.11) ...\n",
            "Setting up git (1:2.34.1-1ubuntu1.12) ...\n"
          ]
        }
      ],
      "source": [
        "!apt-get install git\n",
        "!git config --global credential.helper store"
      ]
    },
    {
      "cell_type": "code",
      "execution_count": null,
      "id": "b045a39e-2a3e-4153-bdb5-281500bcd348",
      "metadata": {
        "colab": {
          "referenced_widgets": [
            "f6a85faa050942189c705cefb3191298"
          ]
        },
        "execution": {
          "iopub.execute_input": "2025-03-12T17:10:25.270323Z",
          "iopub.status.busy": "2025-03-12T17:10:25.269732Z",
          "iopub.status.idle": "2025-03-12T17:10:25.771456Z",
          "shell.execute_reply": "2025-03-12T17:10:25.770467Z",
          "shell.execute_reply.started": "2025-03-12T17:10:25.270249Z"
        },
        "id": "b045a39e-2a3e-4153-bdb5-281500bcd348",
        "outputId": "c9a9c8e1-1599-44d6-a85d-c758c90ecd71",
        "trusted": true
      },
      "outputs": [
        {
          "data": {
            "application/vnd.jupyter.widget-view+json": {
              "model_id": "f6a85faa050942189c705cefb3191298",
              "version_major": 2,
              "version_minor": 0
            },
            "text/plain": [
              "VBox(children=(HTML(value='<center> <img\\nsrc=https://huggingface.co/front/assets/huggingface_logo-noborder.sv…"
            ]
          },
          "metadata": {},
          "output_type": "display_data"
        }
      ],
      "source": [
        "from huggingface_hub import login\n",
        "login()\n"
      ]
    },
    {
      "cell_type": "markdown",
      "id": "b219c9dd-39b6-4a95-b2a1-3f547a1e7bc0",
      "metadata": {
        "id": "b219c9dd-39b6-4a95-b2a1-3f547a1e7bc0"
      },
      "source": [
        "## Load Dataset"
      ]
    },
    {
      "cell_type": "markdown",
      "id": "674429c5-0ab4-4adf-975b-621bb69eca38",
      "metadata": {
        "id": "674429c5-0ab4-4adf-975b-621bb69eca38"
      },
      "source": [
        "Using 🤗 Datasets, downloading and preparing data is extremely simple.\n",
        "We can download and prepare the Common Voice splits in just one line of code.\n",
        "\n",
        "First, ensure you have accepted the terms of use on the Hugging Face Hub: [Sadique5/arabic_quranic_asr](https://huggingface.co/datasets/Sadique5/arabic_quranic_asr). Once you have accepted the terms, you will have full access to the dataset and be able to download the data locally.\n",
        "\n",
        "Since Hindi is very low-resource, we'll combine the `train` and `validation`\n",
        "'splits to give approximately 8 hours of training data. We'll use the 4 hours\n",
        "of `test` data as our held-out test set:"
      ]
    },
    {
      "cell_type": "code",
      "execution_count": null,
      "id": "a2787582-554f-44ce-9f38-4180a5ed6b44",
      "metadata": {
        "colab": {
          "referenced_widgets": [
            "91f00759e2f643bda9a6726f8f1d0e12",
            "db5f45cec2954235b94d66c55a4ff39b",
            "5adddb7d331747de88a58ef4968ce0d2",
            "9ccc90c56d294047994b712ec5bc7701",
            "0c8301637d1a4707b8cb1f23caa09ace",
            "184fe9d5e82c4cfb964d1313a0cc67cf",
            "5ec81774d8214eca8baa06f2e6a6f8c2",
            "cefef0ecf57944dbb517fa17e56e0ddd",
            "34d247dbcf4340d2b4c6428eb59ec1d9",
            "456e9ae95d1f4eaa835b70f6bf5d2649",
            "4b0e37d643de4f3889e9ac2617468001",
            "40b7c4dd65f84ae2be347f2904178905",
            "5f1f29193d36447e87417a1fe6155df3",
            "51b5b774bff14907b8a630d01f98243f",
            "59483d395cce455eb0a03cf7c03468aa",
            "592a32f97a004e5ba058b5308afb2d1d",
            "029da9b0d0db4b1d85c10c789fcce208",
            "fdd23d68ddbc4380908beb1725a2a1b6",
            "d29591acec024072a72247e07b4f4325",
            "f2a19cbf84f542f396bb76351ce11ca2",
            "8a060b5c9dcb4260a118e128a50f182d",
            "8cdf8822bf4f4537bb190459c7441714",
            "8767e200583b476e9fe3cd9434a9f39d",
            "9dd1a9454dda4cb1b56fe6d6fe7cdc56",
            "eb34a93d5bf14a4593dcc8a290c4edaf",
            "cfcac38bd7634f29ae1eb4fd6190f5b1",
            "cb36baee82104cc3bbda82be85ca1b59",
            "65c3fc0754ed45eaaef395ef72f1b5ae",
            "3123ed82808240b882af206832412919",
            "f067a5d104bf49ba9ca54af7eead276c",
            "9c8a104810e147c3bafba83129040148",
            "cc2b92f09ea64c5c891f08e96211b4f0",
            "dd031ddf267d449a9eaa6723f1379bc0",
            "67c0014b20aa47ae9405c56be9ff2470",
            "d6ed2f74d3a6407282a99efc2b9a733d",
            "7d0fda6db8454eb885968f20a591154b",
            "7ebfc3c10c64451ba92cac46f547af86",
            "e186bd69f7134ab49cff3cfbade7bf7a",
            "b46c84f372b14cc584736e9782c3e577",
            "dcfe2d50104d4e9bb3a01759ca3e56c7",
            "07118d85d90044d49656d4d8c38b7493",
            "2117ed383fbd4dd8b2aeb96b369c5fc8",
            "2e34e00fa5a34bafbe9a9f4376fcc76f",
            "dad642b9ce4d472d831c15766b3bb00c",
            "2cca31a542894d67a130438fda07b644",
            "3e8f044737b8421980b2380b1ccf3382",
            "8aa1ae3350c84305b81221c96278d03d",
            "fc3291726d1241feb3fff35a8aaa3118",
            "c533cdef0fcb40ceb66c333dc356fc5c"
          ]
        },
        "execution": {
          "iopub.execute_input": "2025-03-12T17:10:34.874888Z",
          "iopub.status.busy": "2025-03-12T17:10:34.874556Z",
          "iopub.status.idle": "2025-03-12T17:13:45.432197Z",
          "shell.execute_reply": "2025-03-12T17:13:45.431125Z",
          "shell.execute_reply.started": "2025-03-12T17:10:34.874862Z"
        },
        "id": "a2787582-554f-44ce-9f38-4180a5ed6b44",
        "outputId": "54e64cf2-cc19-4afb-d766-23a6ecbe8319",
        "trusted": true
      },
      "outputs": [
        {
          "data": {
            "application/vnd.jupyter.widget-view+json": {
              "model_id": "91f00759e2f643bda9a6726f8f1d0e12",
              "version_major": 2,
              "version_minor": 0
            },
            "text/plain": [
              "README.md:   0%|          | 0.00/1.07k [00:00<?, ?B/s]"
            ]
          },
          "metadata": {},
          "output_type": "display_data"
        },
        {
          "data": {
            "application/vnd.jupyter.widget-view+json": {
              "model_id": "db5f45cec2954235b94d66c55a4ff39b",
              "version_major": 2,
              "version_minor": 0
            },
            "text/plain": [
              "Resolving data files:   0%|          | 0/36 [00:00<?, ?it/s]"
            ]
          },
          "metadata": {},
          "output_type": "display_data"
        },
        {
          "data": {
            "application/vnd.jupyter.widget-view+json": {
              "model_id": "5adddb7d331747de88a58ef4968ce0d2",
              "version_major": 2,
              "version_minor": 0
            },
            "text/plain": [
              "Resolving data files:   0%|          | 0/36 [00:00<?, ?it/s]"
            ]
          },
          "metadata": {},
          "output_type": "display_data"
        },
        {
          "data": {
            "application/vnd.jupyter.widget-view+json": {
              "model_id": "9ccc90c56d294047994b712ec5bc7701",
              "version_major": 2,
              "version_minor": 0
            },
            "text/plain": [
              "Downloading data:   0%|          | 0/36 [00:00<?, ?files/s]"
            ]
          },
          "metadata": {},
          "output_type": "display_data"
        },
        {
          "data": {
            "application/vnd.jupyter.widget-view+json": {
              "model_id": "0c8301637d1a4707b8cb1f23caa09ace",
              "version_major": 2,
              "version_minor": 0
            },
            "text/plain": [
              "train-00000-of-00036.parquet:   0%|          | 0.00/194M [00:00<?, ?B/s]"
            ]
          },
          "metadata": {},
          "output_type": "display_data"
        },
        {
          "data": {
            "application/vnd.jupyter.widget-view+json": {
              "model_id": "184fe9d5e82c4cfb964d1313a0cc67cf",
              "version_major": 2,
              "version_minor": 0
            },
            "text/plain": [
              "train-00001-of-00036.parquet:   0%|          | 0.00/206M [00:00<?, ?B/s]"
            ]
          },
          "metadata": {},
          "output_type": "display_data"
        },
        {
          "data": {
            "application/vnd.jupyter.widget-view+json": {
              "model_id": "5ec81774d8214eca8baa06f2e6a6f8c2",
              "version_major": 2,
              "version_minor": 0
            },
            "text/plain": [
              "train-00002-of-00036.parquet:   0%|          | 0.00/183M [00:00<?, ?B/s]"
            ]
          },
          "metadata": {},
          "output_type": "display_data"
        },
        {
          "data": {
            "application/vnd.jupyter.widget-view+json": {
              "model_id": "cefef0ecf57944dbb517fa17e56e0ddd",
              "version_major": 2,
              "version_minor": 0
            },
            "text/plain": [
              "train-00003-of-00036.parquet:   0%|          | 0.00/187M [00:00<?, ?B/s]"
            ]
          },
          "metadata": {},
          "output_type": "display_data"
        },
        {
          "data": {
            "application/vnd.jupyter.widget-view+json": {
              "model_id": "34d247dbcf4340d2b4c6428eb59ec1d9",
              "version_major": 2,
              "version_minor": 0
            },
            "text/plain": [
              "train-00004-of-00036.parquet:   0%|          | 0.00/200M [00:00<?, ?B/s]"
            ]
          },
          "metadata": {},
          "output_type": "display_data"
        },
        {
          "data": {
            "application/vnd.jupyter.widget-view+json": {
              "model_id": "456e9ae95d1f4eaa835b70f6bf5d2649",
              "version_major": 2,
              "version_minor": 0
            },
            "text/plain": [
              "train-00005-of-00036.parquet:   0%|          | 0.00/207M [00:00<?, ?B/s]"
            ]
          },
          "metadata": {},
          "output_type": "display_data"
        },
        {
          "data": {
            "application/vnd.jupyter.widget-view+json": {
              "model_id": "4b0e37d643de4f3889e9ac2617468001",
              "version_major": 2,
              "version_minor": 0
            },
            "text/plain": [
              "train-00006-of-00036.parquet:   0%|          | 0.00/227M [00:00<?, ?B/s]"
            ]
          },
          "metadata": {},
          "output_type": "display_data"
        },
        {
          "data": {
            "application/vnd.jupyter.widget-view+json": {
              "model_id": "40b7c4dd65f84ae2be347f2904178905",
              "version_major": 2,
              "version_minor": 0
            },
            "text/plain": [
              "train-00007-of-00036.parquet:   0%|          | 0.00/193M [00:00<?, ?B/s]"
            ]
          },
          "metadata": {},
          "output_type": "display_data"
        },
        {
          "data": {
            "application/vnd.jupyter.widget-view+json": {
              "model_id": "5f1f29193d36447e87417a1fe6155df3",
              "version_major": 2,
              "version_minor": 0
            },
            "text/plain": [
              "train-00008-of-00036.parquet:   0%|          | 0.00/192M [00:00<?, ?B/s]"
            ]
          },
          "metadata": {},
          "output_type": "display_data"
        },
        {
          "data": {
            "application/vnd.jupyter.widget-view+json": {
              "model_id": "51b5b774bff14907b8a630d01f98243f",
              "version_major": 2,
              "version_minor": 0
            },
            "text/plain": [
              "train-00009-of-00036.parquet:   0%|          | 0.00/210M [00:00<?, ?B/s]"
            ]
          },
          "metadata": {},
          "output_type": "display_data"
        },
        {
          "data": {
            "application/vnd.jupyter.widget-view+json": {
              "model_id": "59483d395cce455eb0a03cf7c03468aa",
              "version_major": 2,
              "version_minor": 0
            },
            "text/plain": [
              "train-00010-of-00036.parquet:   0%|          | 0.00/198M [00:00<?, ?B/s]"
            ]
          },
          "metadata": {},
          "output_type": "display_data"
        },
        {
          "data": {
            "application/vnd.jupyter.widget-view+json": {
              "model_id": "592a32f97a004e5ba058b5308afb2d1d",
              "version_major": 2,
              "version_minor": 0
            },
            "text/plain": [
              "train-00011-of-00036.parquet:   0%|          | 0.00/187M [00:00<?, ?B/s]"
            ]
          },
          "metadata": {},
          "output_type": "display_data"
        },
        {
          "data": {
            "application/vnd.jupyter.widget-view+json": {
              "model_id": "029da9b0d0db4b1d85c10c789fcce208",
              "version_major": 2,
              "version_minor": 0
            },
            "text/plain": [
              "train-00012-of-00036.parquet:   0%|          | 0.00/194M [00:00<?, ?B/s]"
            ]
          },
          "metadata": {},
          "output_type": "display_data"
        },
        {
          "data": {
            "application/vnd.jupyter.widget-view+json": {
              "model_id": "fdd23d68ddbc4380908beb1725a2a1b6",
              "version_major": 2,
              "version_minor": 0
            },
            "text/plain": [
              "train-00013-of-00036.parquet:   0%|          | 0.00/181M [00:00<?, ?B/s]"
            ]
          },
          "metadata": {},
          "output_type": "display_data"
        },
        {
          "data": {
            "application/vnd.jupyter.widget-view+json": {
              "model_id": "d29591acec024072a72247e07b4f4325",
              "version_major": 2,
              "version_minor": 0
            },
            "text/plain": [
              "train-00014-of-00036.parquet:   0%|          | 0.00/208M [00:00<?, ?B/s]"
            ]
          },
          "metadata": {},
          "output_type": "display_data"
        },
        {
          "data": {
            "application/vnd.jupyter.widget-view+json": {
              "model_id": "f2a19cbf84f542f396bb76351ce11ca2",
              "version_major": 2,
              "version_minor": 0
            },
            "text/plain": [
              "train-00015-of-00036.parquet:   0%|          | 0.00/176M [00:00<?, ?B/s]"
            ]
          },
          "metadata": {},
          "output_type": "display_data"
        },
        {
          "data": {
            "application/vnd.jupyter.widget-view+json": {
              "model_id": "8a060b5c9dcb4260a118e128a50f182d",
              "version_major": 2,
              "version_minor": 0
            },
            "text/plain": [
              "train-00016-of-00036.parquet:   0%|          | 0.00/182M [00:00<?, ?B/s]"
            ]
          },
          "metadata": {},
          "output_type": "display_data"
        },
        {
          "data": {
            "application/vnd.jupyter.widget-view+json": {
              "model_id": "8cdf8822bf4f4537bb190459c7441714",
              "version_major": 2,
              "version_minor": 0
            },
            "text/plain": [
              "train-00017-of-00036.parquet:   0%|          | 0.00/183M [00:00<?, ?B/s]"
            ]
          },
          "metadata": {},
          "output_type": "display_data"
        },
        {
          "data": {
            "application/vnd.jupyter.widget-view+json": {
              "model_id": "8767e200583b476e9fe3cd9434a9f39d",
              "version_major": 2,
              "version_minor": 0
            },
            "text/plain": [
              "train-00018-of-00036.parquet:   0%|          | 0.00/196M [00:00<?, ?B/s]"
            ]
          },
          "metadata": {},
          "output_type": "display_data"
        },
        {
          "data": {
            "application/vnd.jupyter.widget-view+json": {
              "model_id": "9dd1a9454dda4cb1b56fe6d6fe7cdc56",
              "version_major": 2,
              "version_minor": 0
            },
            "text/plain": [
              "train-00019-of-00036.parquet:   0%|          | 0.00/229M [00:00<?, ?B/s]"
            ]
          },
          "metadata": {},
          "output_type": "display_data"
        },
        {
          "data": {
            "application/vnd.jupyter.widget-view+json": {
              "model_id": "eb34a93d5bf14a4593dcc8a290c4edaf",
              "version_major": 2,
              "version_minor": 0
            },
            "text/plain": [
              "train-00020-of-00036.parquet:   0%|          | 0.00/202M [00:00<?, ?B/s]"
            ]
          },
          "metadata": {},
          "output_type": "display_data"
        },
        {
          "data": {
            "application/vnd.jupyter.widget-view+json": {
              "model_id": "cfcac38bd7634f29ae1eb4fd6190f5b1",
              "version_major": 2,
              "version_minor": 0
            },
            "text/plain": [
              "train-00021-of-00036.parquet:   0%|          | 0.00/194M [00:00<?, ?B/s]"
            ]
          },
          "metadata": {},
          "output_type": "display_data"
        },
        {
          "data": {
            "application/vnd.jupyter.widget-view+json": {
              "model_id": "cb36baee82104cc3bbda82be85ca1b59",
              "version_major": 2,
              "version_minor": 0
            },
            "text/plain": [
              "train-00022-of-00036.parquet:   0%|          | 0.00/184M [00:00<?, ?B/s]"
            ]
          },
          "metadata": {},
          "output_type": "display_data"
        },
        {
          "data": {
            "application/vnd.jupyter.widget-view+json": {
              "model_id": "65c3fc0754ed45eaaef395ef72f1b5ae",
              "version_major": 2,
              "version_minor": 0
            },
            "text/plain": [
              "train-00023-of-00036.parquet:   0%|          | 0.00/198M [00:00<?, ?B/s]"
            ]
          },
          "metadata": {},
          "output_type": "display_data"
        },
        {
          "data": {
            "application/vnd.jupyter.widget-view+json": {
              "model_id": "3123ed82808240b882af206832412919",
              "version_major": 2,
              "version_minor": 0
            },
            "text/plain": [
              "train-00024-of-00036.parquet:   0%|          | 0.00/211M [00:00<?, ?B/s]"
            ]
          },
          "metadata": {},
          "output_type": "display_data"
        },
        {
          "data": {
            "application/vnd.jupyter.widget-view+json": {
              "model_id": "f067a5d104bf49ba9ca54af7eead276c",
              "version_major": 2,
              "version_minor": 0
            },
            "text/plain": [
              "train-00025-of-00036.parquet:   0%|          | 0.00/200M [00:00<?, ?B/s]"
            ]
          },
          "metadata": {},
          "output_type": "display_data"
        },
        {
          "data": {
            "application/vnd.jupyter.widget-view+json": {
              "model_id": "9c8a104810e147c3bafba83129040148",
              "version_major": 2,
              "version_minor": 0
            },
            "text/plain": [
              "train-00026-of-00036.parquet:   0%|          | 0.00/210M [00:00<?, ?B/s]"
            ]
          },
          "metadata": {},
          "output_type": "display_data"
        },
        {
          "data": {
            "application/vnd.jupyter.widget-view+json": {
              "model_id": "cc2b92f09ea64c5c891f08e96211b4f0",
              "version_major": 2,
              "version_minor": 0
            },
            "text/plain": [
              "train-00027-of-00036.parquet:   0%|          | 0.00/215M [00:00<?, ?B/s]"
            ]
          },
          "metadata": {},
          "output_type": "display_data"
        },
        {
          "data": {
            "application/vnd.jupyter.widget-view+json": {
              "model_id": "dd031ddf267d449a9eaa6723f1379bc0",
              "version_major": 2,
              "version_minor": 0
            },
            "text/plain": [
              "train-00028-of-00036.parquet:   0%|          | 0.00/199M [00:00<?, ?B/s]"
            ]
          },
          "metadata": {},
          "output_type": "display_data"
        },
        {
          "data": {
            "application/vnd.jupyter.widget-view+json": {
              "model_id": "67c0014b20aa47ae9405c56be9ff2470",
              "version_major": 2,
              "version_minor": 0
            },
            "text/plain": [
              "train-00029-of-00036.parquet:   0%|          | 0.00/218M [00:00<?, ?B/s]"
            ]
          },
          "metadata": {},
          "output_type": "display_data"
        },
        {
          "data": {
            "application/vnd.jupyter.widget-view+json": {
              "model_id": "d6ed2f74d3a6407282a99efc2b9a733d",
              "version_major": 2,
              "version_minor": 0
            },
            "text/plain": [
              "train-00030-of-00036.parquet:   0%|          | 0.00/198M [00:00<?, ?B/s]"
            ]
          },
          "metadata": {},
          "output_type": "display_data"
        },
        {
          "data": {
            "application/vnd.jupyter.widget-view+json": {
              "model_id": "7d0fda6db8454eb885968f20a591154b",
              "version_major": 2,
              "version_minor": 0
            },
            "text/plain": [
              "train-00031-of-00036.parquet:   0%|          | 0.00/204M [00:00<?, ?B/s]"
            ]
          },
          "metadata": {},
          "output_type": "display_data"
        },
        {
          "data": {
            "application/vnd.jupyter.widget-view+json": {
              "model_id": "7ebfc3c10c64451ba92cac46f547af86",
              "version_major": 2,
              "version_minor": 0
            },
            "text/plain": [
              "train-00032-of-00036.parquet:   0%|          | 0.00/200M [00:00<?, ?B/s]"
            ]
          },
          "metadata": {},
          "output_type": "display_data"
        },
        {
          "data": {
            "application/vnd.jupyter.widget-view+json": {
              "model_id": "e186bd69f7134ab49cff3cfbade7bf7a",
              "version_major": 2,
              "version_minor": 0
            },
            "text/plain": [
              "train-00033-of-00036.parquet:   0%|          | 0.00/173M [00:00<?, ?B/s]"
            ]
          },
          "metadata": {},
          "output_type": "display_data"
        },
        {
          "data": {
            "application/vnd.jupyter.widget-view+json": {
              "model_id": "b46c84f372b14cc584736e9782c3e577",
              "version_major": 2,
              "version_minor": 0
            },
            "text/plain": [
              "train-00034-of-00036.parquet:   0%|          | 0.00/192M [00:00<?, ?B/s]"
            ]
          },
          "metadata": {},
          "output_type": "display_data"
        },
        {
          "data": {
            "application/vnd.jupyter.widget-view+json": {
              "model_id": "dcfe2d50104d4e9bb3a01759ca3e56c7",
              "version_major": 2,
              "version_minor": 0
            },
            "text/plain": [
              "train-00035-of-00036.parquet:   0%|          | 0.00/198M [00:00<?, ?B/s]"
            ]
          },
          "metadata": {},
          "output_type": "display_data"
        },
        {
          "data": {
            "application/vnd.jupyter.widget-view+json": {
              "model_id": "07118d85d90044d49656d4d8c38b7493",
              "version_major": 2,
              "version_minor": 0
            },
            "text/plain": [
              "test-00000-of-00004.parquet:   0%|          | 0.00/185M [00:00<?, ?B/s]"
            ]
          },
          "metadata": {},
          "output_type": "display_data"
        },
        {
          "data": {
            "application/vnd.jupyter.widget-view+json": {
              "model_id": "2117ed383fbd4dd8b2aeb96b369c5fc8",
              "version_major": 2,
              "version_minor": 0
            },
            "text/plain": [
              "test-00001-of-00004.parquet:   0%|          | 0.00/193M [00:00<?, ?B/s]"
            ]
          },
          "metadata": {},
          "output_type": "display_data"
        },
        {
          "data": {
            "application/vnd.jupyter.widget-view+json": {
              "model_id": "2e34e00fa5a34bafbe9a9f4376fcc76f",
              "version_major": 2,
              "version_minor": 0
            },
            "text/plain": [
              "test-00002-of-00004.parquet:   0%|          | 0.00/201M [00:00<?, ?B/s]"
            ]
          },
          "metadata": {},
          "output_type": "display_data"
        },
        {
          "data": {
            "application/vnd.jupyter.widget-view+json": {
              "model_id": "dad642b9ce4d472d831c15766b3bb00c",
              "version_major": 2,
              "version_minor": 0
            },
            "text/plain": [
              "test-00003-of-00004.parquet:   0%|          | 0.00/200M [00:00<?, ?B/s]"
            ]
          },
          "metadata": {},
          "output_type": "display_data"
        },
        {
          "data": {
            "application/vnd.jupyter.widget-view+json": {
              "model_id": "2cca31a542894d67a130438fda07b644",
              "version_major": 2,
              "version_minor": 0
            },
            "text/plain": [
              "Generating train split:   0%|          | 0/15027 [00:00<?, ? examples/s]"
            ]
          },
          "metadata": {},
          "output_type": "display_data"
        },
        {
          "data": {
            "application/vnd.jupyter.widget-view+json": {
              "model_id": "3e8f044737b8421980b2380b1ccf3382",
              "version_major": 2,
              "version_minor": 0
            },
            "text/plain": [
              "Generating test split:   0%|          | 0/1670 [00:00<?, ? examples/s]"
            ]
          },
          "metadata": {},
          "output_type": "display_data"
        },
        {
          "data": {
            "application/vnd.jupyter.widget-view+json": {
              "model_id": "8aa1ae3350c84305b81221c96278d03d",
              "version_major": 2,
              "version_minor": 0
            },
            "text/plain": [
              "Loading dataset shards:   0%|          | 0/36 [00:00<?, ?it/s]"
            ]
          },
          "metadata": {},
          "output_type": "display_data"
        },
        {
          "data": {
            "application/vnd.jupyter.widget-view+json": {
              "model_id": "fc3291726d1241feb3fff35a8aaa3118",
              "version_major": 2,
              "version_minor": 0
            },
            "text/plain": [
              "Resolving data files:   0%|          | 0/36 [00:00<?, ?it/s]"
            ]
          },
          "metadata": {},
          "output_type": "display_data"
        },
        {
          "data": {
            "application/vnd.jupyter.widget-view+json": {
              "model_id": "c533cdef0fcb40ceb66c333dc356fc5c",
              "version_major": 2,
              "version_minor": 0
            },
            "text/plain": [
              "Resolving data files:   0%|          | 0/36 [00:00<?, ?it/s]"
            ]
          },
          "metadata": {},
          "output_type": "display_data"
        },
        {
          "name": "stdout",
          "output_type": "stream",
          "text": [
            "DatasetDict({\n",
            "    train: Dataset({\n",
            "        features: ['sentence', 'audio', 'input_features', 'labels'],\n",
            "        num_rows: 15027\n",
            "    })\n",
            "    test: Dataset({\n",
            "        features: ['sentence', 'audio', 'input_features', 'labels'],\n",
            "        num_rows: 1670\n",
            "    })\n",
            "})\n"
          ]
        }
      ],
      "source": [
        "from datasets import load_dataset, DatasetDict\n",
        "common_voice = DatasetDict()\n",
        "\n",
        "common_voice[\"train\"] = load_dataset(\"Sadique5/arabic_quranic_asr\", split=\"train\")\n",
        "common_voice[\"test\"] = load_dataset(\"Sadique5/arabic_quranic_asr\",  split=\"test\")\n",
        "common_voice['train'] = common_voice['train'].rename_column(\"text\", \"sentence\")\n",
        "common_voice['test'] = common_voice['test'].rename_column(\"text\", \"sentence\")\n",
        "print(common_voice)"
      ]
    },
    {
      "cell_type": "markdown",
      "id": "d5c7c3d6-7197-41e7-a088-49b753c1681f",
      "metadata": {
        "id": "d5c7c3d6-7197-41e7-a088-49b753c1681f"
      },
      "source": [
        "Most ASR datasets only provide input audio samples (`audio`) and the\n",
        "corresponding transcribed text (`sentence`). Common Voice contains additional\n",
        "metadata information, such as `accent` and `locale`, which we can disregard for ASR.\n",
        "Keeping the notebook as general as possible, we only consider the input audio and\n",
        "transcribed text for fine-tuning, discarding the additional metadata information:"
      ]
    },
    {
      "cell_type": "code",
      "execution_count": null,
      "id": "20ba635d-518c-47ac-97ee-3cad25f1e0ce",
      "metadata": {
        "execution": {
          "iopub.execute_input": "2025-03-12T17:13:48.930669Z",
          "iopub.status.busy": "2025-03-12T17:13:48.930108Z",
          "iopub.status.idle": "2025-03-12T17:13:49.063894Z",
          "shell.execute_reply": "2025-03-12T17:13:49.062762Z",
          "shell.execute_reply.started": "2025-03-12T17:13:48.930641Z"
        },
        "id": "20ba635d-518c-47ac-97ee-3cad25f1e0ce",
        "outputId": "4c473fd1-80d9-42a4-de4f-aeba9a056b68",
        "trusted": true
      },
      "outputs": [
        {
          "name": "stdout",
          "output_type": "stream",
          "text": [
            "DatasetDict({\n",
            "    train: Dataset({\n",
            "        features: ['sentence', 'audio'],\n",
            "        num_rows: 15027\n",
            "    })\n",
            "    test: Dataset({\n",
            "        features: ['sentence', 'audio'],\n",
            "        num_rows: 1670\n",
            "    })\n",
            "})\n"
          ]
        }
      ],
      "source": [
        "common_voice = common_voice.remove_columns(['input_features', 'labels'])\n",
        "\n",
        "print(common_voice)"
      ]
    },
    {
      "cell_type": "markdown",
      "id": "2d63b2d2-f68a-4d74-b7f1-5127f6d16605",
      "metadata": {
        "id": "2d63b2d2-f68a-4d74-b7f1-5127f6d16605"
      },
      "source": [
        "## Prepare Feature Extractor, Tokenizer and Data"
      ]
    },
    {
      "cell_type": "markdown",
      "id": "601c3099-1026-439e-93e2-5635b3ba5a73",
      "metadata": {
        "id": "601c3099-1026-439e-93e2-5635b3ba5a73"
      },
      "source": [
        "The ASR pipeline can be de-composed into three stages:\n",
        "\n",
        "1. A feature extractor which pre-processes the raw audio-inputs\n",
        "2. The model which performs the sequence-to-sequence mapping\n",
        "3. A tokenizer which post-processes the model outputs to text format\n",
        "\n",
        "In 🤗 Transformers, the Whisper model has an associated feature extractor and tokenizer,\n",
        "called [WhisperFeatureExtractor](https://huggingface.co/docs/transformers/main/model_doc/whisper#transformers.WhisperFeatureExtractor)\n",
        "and [WhisperTokenizer](https://huggingface.co/docs/transformers/main/model_doc/whisper#transformers.WhisperTokenizer)\n",
        "respectively.\n",
        "\n",
        "We'll go through details for setting-up the feature extractor and tokenizer one-by-one!"
      ]
    },
    {
      "cell_type": "markdown",
      "id": "560332eb-3558-41a1-b500-e83a9f695f84",
      "metadata": {
        "id": "560332eb-3558-41a1-b500-e83a9f695f84"
      },
      "source": [
        "### Load WhisperFeatureExtractor"
      ]
    },
    {
      "cell_type": "markdown",
      "id": "32ec8068-0bd7-412d-b662-0edb9d1e7365",
      "metadata": {
        "id": "32ec8068-0bd7-412d-b662-0edb9d1e7365"
      },
      "source": [
        "The Whisper feature extractor performs two operations:\n",
        "1. Pads / truncates the audio inputs to 30s: any audio inputs shorter than 30s are padded to 30s with silence (zeros), and those longer that 30s are truncated to 30s\n",
        "2. Converts the audio inputs to _log-Mel spectrogram_ input features, a visual representation of the audio and the form of the input expected by the Whisper model"
      ]
    },
    {
      "cell_type": "markdown",
      "id": "589d9ec1-d12b-4b64-93f7-04c63997da19",
      "metadata": {
        "id": "589d9ec1-d12b-4b64-93f7-04c63997da19"
      },
      "source": [
        "<figure>\n",
        "<img src=\"https://raw.githubusercontent.com/sanchit-gandhi/notebooks/main/spectrogram.jpg\" alt=\"Trulli\" style=\"width:100%\">\n",
        "<figcaption align = \"center\"><b>Figure 2:</b> Conversion of sampled audio array to log-Mel spectrogram.\n",
        "Left: sampled 1-dimensional audio signal. Right: corresponding log-Mel spectrogram. Figure source:\n",
        "<a href=\"https://ai.googleblog.com/2019/04/specaugment-new-data-augmentation.html\">Google SpecAugment Blog</a>.\n",
        "</figcaption>"
      ]
    },
    {
      "cell_type": "markdown",
      "id": "b2ef54d5-b946-4c1d-9fdc-adc5d01b46aa",
      "metadata": {
        "id": "b2ef54d5-b946-4c1d-9fdc-adc5d01b46aa"
      },
      "source": [
        "We'll load the feature extractor from the pre-trained checkpoint with the default values:"
      ]
    },
    {
      "cell_type": "code",
      "execution_count": null,
      "id": "bc77d7bb-f9e2-47f5-b663-30f7a4321ce5",
      "metadata": {
        "colab": {
          "referenced_widgets": [
            "850d2ef6b69d40c18c1aa5f04f8d998f"
          ]
        },
        "execution": {
          "iopub.execute_input": "2025-03-12T17:13:52.980193Z",
          "iopub.status.busy": "2025-03-12T17:13:52.979685Z",
          "iopub.status.idle": "2025-03-12T17:13:58.926964Z",
          "shell.execute_reply": "2025-03-12T17:13:58.926158Z",
          "shell.execute_reply.started": "2025-03-12T17:13:52.980151Z"
        },
        "id": "bc77d7bb-f9e2-47f5-b663-30f7a4321ce5",
        "outputId": "1c16fb38-ba28-4356-bf3a-380f092886e6",
        "trusted": true
      },
      "outputs": [
        {
          "data": {
            "application/vnd.jupyter.widget-view+json": {
              "model_id": "850d2ef6b69d40c18c1aa5f04f8d998f",
              "version_major": 2,
              "version_minor": 0
            },
            "text/plain": [
              "preprocessor_config.json:   0%|          | 0.00/339 [00:00<?, ?B/s]"
            ]
          },
          "metadata": {},
          "output_type": "display_data"
        }
      ],
      "source": [
        "from transformers import WhisperFeatureExtractor\n",
        "\n",
        "feature_extractor = WhisperFeatureExtractor.from_pretrained(\"Baselhany/Quran_Whisper_base_fine_tune\")"
      ]
    },
    {
      "cell_type": "markdown",
      "id": "93748af7-b917-4ecf-a0c8-7d89077ff9cb",
      "metadata": {
        "id": "93748af7-b917-4ecf-a0c8-7d89077ff9cb"
      },
      "source": [
        "### Load WhisperTokenizer"
      ]
    },
    {
      "cell_type": "markdown",
      "id": "2bc82609-a9fb-447a-a2af-99597c864029",
      "metadata": {
        "id": "2bc82609-a9fb-447a-a2af-99597c864029"
      },
      "source": [
        "The Whisper model outputs a sequence of _token ids_. The tokenizer maps each of these token ids to their corresponding text string. For Arabic, we can load the pre-trained tokenizer and use it for fine-tuning without any further modifications. We simply have to\n",
        "specify the target language and the task. These arguments inform the\n",
        "tokenizer to prefix the language and task tokens to the start of encoded\n",
        "label sequences:"
      ]
    },
    {
      "cell_type": "code",
      "execution_count": null,
      "id": "c7b07f9b-ae0e-4f89-98f0-0c50d432eab6",
      "metadata": {
        "colab": {
          "referenced_widgets": [
            "90d056e20b3e4f14ae0199a1a4ab1bb0",
            "d82a88daec0e4f14add691b7b903064c",
            "350acdb0f40e454099fa901e66de55f0",
            "2e6a82a462cc411d90fa1bea4ee60790",
            "c74bfee0198b4817832ea86e8e88d96c",
            "04fb2d81eff646068e10475a08ae42f4",
            "1df6bc46527947828425d2b285b93d10",
            "1bf87315aada49a791378f8f9b05b9f9",
            "a6690d54dbfd4cbdab0247868a63b279",
            "308a372090f541979733c42c62b64070",
            "cf5737a36a38423394581ec14b45e330",
            "629bcd2af8a44a1f9d924c1f3f13380d"
          ]
        },
        "execution": {
          "iopub.execute_input": "2025-03-12T17:14:10.086152Z",
          "iopub.status.busy": "2025-03-12T17:14:10.085582Z",
          "iopub.status.idle": "2025-03-12T17:14:11.921827Z",
          "shell.execute_reply": "2025-03-12T17:14:11.920896Z",
          "shell.execute_reply.started": "2025-03-12T17:14:10.086121Z"
        },
        "id": "c7b07f9b-ae0e-4f89-98f0-0c50d432eab6",
        "outputId": "5c004b44-86e7-4e00-88be-39e0af5eed69",
        "trusted": true
      },
      "outputs": [
        {
          "data": {
            "application/vnd.jupyter.widget-view+json": {
              "model_id": "1df6bc46527947828425d2b285b93d10",
              "version_major": 2,
              "version_minor": 0
            },
            "text/plain": [
              "tokenizer_config.json:   0%|          | 0.00/283k [00:00<?, ?B/s]"
            ]
          },
          "metadata": {},
          "output_type": "display_data"
        },
        {
          "data": {
            "application/vnd.jupyter.widget-view+json": {
              "model_id": "1bf87315aada49a791378f8f9b05b9f9",
              "version_major": 2,
              "version_minor": 0
            },
            "text/plain": [
              "vocab.json:   0%|          | 0.00/1.04M [00:00<?, ?B/s]"
            ]
          },
          "metadata": {},
          "output_type": "display_data"
        },
        {
          "data": {
            "application/vnd.jupyter.widget-view+json": {
              "model_id": "a6690d54dbfd4cbdab0247868a63b279",
              "version_major": 2,
              "version_minor": 0
            },
            "text/plain": [
              "merges.txt:   0%|          | 0.00/494k [00:00<?, ?B/s]"
            ]
          },
          "metadata": {},
          "output_type": "display_data"
        },
        {
          "data": {
            "application/vnd.jupyter.widget-view+json": {
              "model_id": "308a372090f541979733c42c62b64070",
              "version_major": 2,
              "version_minor": 0
            },
            "text/plain": [
              "normalizer.json:   0%|          | 0.00/52.7k [00:00<?, ?B/s]"
            ]
          },
          "metadata": {},
          "output_type": "display_data"
        },
        {
          "data": {
            "application/vnd.jupyter.widget-view+json": {
              "model_id": "cf5737a36a38423394581ec14b45e330",
              "version_major": 2,
              "version_minor": 0
            },
            "text/plain": [
              "added_tokens.json:   0%|          | 0.00/34.6k [00:00<?, ?B/s]"
            ]
          },
          "metadata": {},
          "output_type": "display_data"
        },
        {
          "data": {
            "application/vnd.jupyter.widget-view+json": {
              "model_id": "629bcd2af8a44a1f9d924c1f3f13380d",
              "version_major": 2,
              "version_minor": 0
            },
            "text/plain": [
              "special_tokens_map.json:   0%|          | 0.00/2.19k [00:00<?, ?B/s]"
            ]
          },
          "metadata": {},
          "output_type": "display_data"
        }
      ],
      "source": [
        "from transformers import WhisperTokenizer\n",
        "\n",
        "tokenizer = WhisperTokenizer.from_pretrained(\"Baselhany/Quran_Whisper_base_fine_tune\", language=\"ar\", task=\"transcribe\")"
      ]
    },
    {
      "cell_type": "markdown",
      "id": "d2ef23f3-f4a8-483a-a2dc-080a7496cb1b",
      "metadata": {
        "id": "d2ef23f3-f4a8-483a-a2dc-080a7496cb1b"
      },
      "source": [
        "### Combine To Create A WhisperProcessor"
      ]
    },
    {
      "cell_type": "markdown",
      "id": "5ff67654-5a29-4bb8-a69d-0228946c6f8d",
      "metadata": {
        "id": "5ff67654-5a29-4bb8-a69d-0228946c6f8d"
      },
      "source": [
        "To simplify using the feature extractor and tokenizer, we can _wrap_\n",
        "both into a single `WhisperProcessor` class. This processor object\n",
        "inherits from the `WhisperFeatureExtractor` and `WhisperProcessor`,\n",
        "and can be used on the audio inputs and model predictions as required.\n",
        "In doing so, we only need to keep track of two objects during training:\n",
        "the `processor` and the `model`:"
      ]
    },
    {
      "cell_type": "code",
      "execution_count": null,
      "id": "77d9f0c5-8607-4642-a8ac-c3ab2e223ea6",
      "metadata": {
        "execution": {
          "iopub.execute_input": "2025-03-12T17:14:15.629757Z",
          "iopub.status.busy": "2025-03-12T17:14:15.629402Z",
          "iopub.status.idle": "2025-03-12T17:14:20.387253Z",
          "shell.execute_reply": "2025-03-12T17:14:20.386287Z",
          "shell.execute_reply.started": "2025-03-12T17:14:15.629720Z"
        },
        "id": "77d9f0c5-8607-4642-a8ac-c3ab2e223ea6",
        "trusted": true
      },
      "outputs": [],
      "source": [
        "from transformers import WhisperProcessor\n",
        "\n",
        "processor = WhisperProcessor.from_pretrained(\"Baselhany/Quran_Whisper_base_fine_tune\", language=\"ar\", task=\"transcribe\")"
      ]
    },
    {
      "cell_type": "markdown",
      "id": "381acd09-0b0f-4d04-9eb3-f028ac0e5f2c",
      "metadata": {
        "id": "381acd09-0b0f-4d04-9eb3-f028ac0e5f2c"
      },
      "source": [
        "### Prepare Data"
      ]
    },
    {
      "cell_type": "markdown",
      "id": "9649bf01-2e8a-45e5-8fca-441c13637b8f",
      "metadata": {
        "id": "9649bf01-2e8a-45e5-8fca-441c13637b8f"
      },
      "source": [
        "Let's print the first example of the Common Voice dataset to see\n",
        "what form the data is in:"
      ]
    },
    {
      "cell_type": "code",
      "execution_count": null,
      "id": "6e6b0ec5-0c94-4e2c-ae24-c791be1b2255",
      "metadata": {
        "execution": {
          "iopub.execute_input": "2025-03-12T17:14:26.474472Z",
          "iopub.status.busy": "2025-03-12T17:14:26.473828Z",
          "iopub.status.idle": "2025-03-12T17:14:41.763712Z",
          "shell.execute_reply": "2025-03-12T17:14:41.762573Z",
          "shell.execute_reply.started": "2025-03-12T17:14:26.474426Z"
        },
        "id": "6e6b0ec5-0c94-4e2c-ae24-c791be1b2255",
        "outputId": "b39f5ee2-1686-45e3-ba08-6608460654ed",
        "trusted": true
      },
      "outputs": [
        {
          "name": "stdout",
          "output_type": "stream",
          "text": [
            "{'sentence': 'سَيِّئَاتِهِ', 'audio': {'path': None, 'array': array([ 0.00000000e+00,  0.00000000e+00,  0.00000000e+00, ...,\n",
            "       -3.05175781e-05, -3.05175781e-05,  0.00000000e+00]), 'sampling_rate': 16000}}\n"
          ]
        }
      ],
      "source": [
        "print(common_voice[\"train\"][0])"
      ]
    },
    {
      "cell_type": "markdown",
      "id": "5a679f05-063d-41b3-9b58-4fc9c6ccf4fd",
      "metadata": {
        "id": "5a679f05-063d-41b3-9b58-4fc9c6ccf4fd"
      },
      "source": [
        "Since\n",
        "our input audio is sampled at 48kHz, we need to _downsample_ it to\n",
        "16kHz prior to passing it to the Whisper feature extractor, 16kHz being the sampling rate expected by the Whisper model.\n",
        "\n",
        "We'll set the audio inputs to the correct sampling rate using dataset's\n",
        "[`cast_column`](https://huggingface.co/docs/datasets/package_reference/main_classes.html?highlight=cast_column#datasets.DatasetDict.cast_column)\n",
        "method. This operation does not change the audio in-place,\n",
        "but rather signals to `datasets` to resample audio samples _on the fly_ the\n",
        "first time that they are loaded:"
      ]
    },
    {
      "cell_type": "code",
      "execution_count": null,
      "id": "f12e2e57-156f-417b-8cfb-69221cc198e8",
      "metadata": {
        "execution": {
          "iopub.execute_input": "2025-03-12T17:14:41.765957Z",
          "iopub.status.busy": "2025-03-12T17:14:41.765189Z",
          "iopub.status.idle": "2025-03-12T17:14:41.807686Z",
          "shell.execute_reply": "2025-03-12T17:14:41.806582Z",
          "shell.execute_reply.started": "2025-03-12T17:14:41.765914Z"
        },
        "id": "f12e2e57-156f-417b-8cfb-69221cc198e8",
        "trusted": true
      },
      "outputs": [],
      "source": [
        "from datasets import Audio\n",
        "\n",
        "common_voice = common_voice.cast_column(\"audio\", Audio(sampling_rate=16000))"
      ]
    },
    {
      "cell_type": "markdown",
      "id": "00382a3e-abec-4cdd-a54c-d1aaa3ea4707",
      "metadata": {
        "id": "00382a3e-abec-4cdd-a54c-d1aaa3ea4707"
      },
      "source": [
        "Re-loading the first audio sample in the Common Voice dataset will resample\n",
        "it to the desired sampling rate:"
      ]
    },
    {
      "cell_type": "code",
      "execution_count": null,
      "id": "87122d71-289a-466a-afcf-fa354b18946b",
      "metadata": {
        "execution": {
          "iopub.execute_input": "2025-03-12T17:14:51.220331Z",
          "iopub.status.busy": "2025-03-12T17:14:51.219895Z",
          "iopub.status.idle": "2025-03-12T17:14:51.228854Z",
          "shell.execute_reply": "2025-03-12T17:14:51.227802Z",
          "shell.execute_reply.started": "2025-03-12T17:14:51.220296Z"
        },
        "id": "87122d71-289a-466a-afcf-fa354b18946b",
        "outputId": "4d3147cb-0d3f-4e45-8076-abdefa807c90",
        "trusted": true
      },
      "outputs": [
        {
          "name": "stdout",
          "output_type": "stream",
          "text": [
            "{'sentence': 'سَيِّئَاتِهِ', 'audio': {'path': None, 'array': array([ 0.00000000e+00,  0.00000000e+00,  0.00000000e+00, ...,\n",
            "       -3.05175781e-05, -3.05175781e-05,  0.00000000e+00]), 'sampling_rate': 16000}}\n"
          ]
        }
      ],
      "source": [
        "print(common_voice[\"train\"][0])"
      ]
    },
    {
      "cell_type": "markdown",
      "id": "91edc72d-08f8-4f01-899d-74e65ce441fc",
      "metadata": {
        "id": "91edc72d-08f8-4f01-899d-74e65ce441fc"
      },
      "source": [
        "Now we can write a function to prepare our data ready for the model:\n",
        "1. We load and resample the audio data by calling `batch[\"audio\"]`. As explained above, 🤗 Datasets performs any necessary resampling operations on the fly.\n",
        "2. We use the feature extractor to compute the log-Mel spectrogram input features from our 1-dimensional audio array.\n",
        "3. We encode the transcriptions to label ids through the use of the tokenizer."
      ]
    },
    {
      "cell_type": "code",
      "execution_count": null,
      "id": "6525c478-8962-4394-a1c4-103c54cce170",
      "metadata": {
        "execution": {
          "iopub.execute_input": "2025-03-12T17:15:13.013274Z",
          "iopub.status.busy": "2025-03-12T17:15:13.012871Z",
          "iopub.status.idle": "2025-03-12T17:15:13.019496Z",
          "shell.execute_reply": "2025-03-12T17:15:13.017900Z",
          "shell.execute_reply.started": "2025-03-12T17:15:13.013244Z"
        },
        "id": "6525c478-8962-4394-a1c4-103c54cce170",
        "trusted": true
      },
      "outputs": [],
      "source": [
        "def prepare_dataset(batch):\n",
        "    # load and resample audio data from 48 to 16kHz\n",
        "    audio = batch[\"audio\"]\n",
        "\n",
        "    # compute log-Mel input features from input audio array\n",
        "    batch[\"input_features\"] = feature_extractor(\n",
        "        audio[\"array\"], sampling_rate=audio[\"sampling_rate\"]\n",
        "    ).input_features[0]\n",
        "\n",
        "    # encode target text to label ids with truncation to 448 tokens\n",
        "    batch[\"labels\"] = tokenizer(\n",
        "        batch[\"sentence\"],\n",
        "        max_length=448,\n",
        "        truncation=True\n",
        "    ).input_ids\n",
        "    return batch\n"
      ]
    },
    {
      "cell_type": "markdown",
      "id": "70b319fb-2439-4ef6-a70d-a47bf41c4a13",
      "metadata": {
        "id": "70b319fb-2439-4ef6-a70d-a47bf41c4a13"
      },
      "source": [
        "We can apply the data preparation function to all of our training examples using dataset's `.map` method. The argument `num_proc` specifies how many CPU cores to use. Setting `num_proc` > 1 will enable multiprocessing. If the `.map` method hangs with multiprocessing, set `num_proc=1` and process the dataset sequentially."
      ]
    },
    {
      "cell_type": "code",
      "execution_count": null,
      "id": "7b73ab39-ffaf-4b9e-86e5-782963c6134b",
      "metadata": {
        "colab": {
          "referenced_widgets": [
            "90ac66e51ed545818892872a733da4b2",
            "50315efa8ad248aa886306dd01a6a621"
          ]
        },
        "execution": {
          "iopub.execute_input": "2025-03-12T17:15:17.483810Z",
          "iopub.status.busy": "2025-03-12T17:15:17.483425Z",
          "iopub.status.idle": "2025-03-12T17:19:35.163430Z",
          "shell.execute_reply": "2025-03-12T17:19:35.162254Z",
          "shell.execute_reply.started": "2025-03-12T17:15:17.483777Z"
        },
        "id": "7b73ab39-ffaf-4b9e-86e5-782963c6134b",
        "outputId": "2c410225-186e-4ebd-e080-af6f49914c21",
        "trusted": true
      },
      "outputs": [
        {
          "data": {
            "application/vnd.jupyter.widget-view+json": {
              "model_id": "90ac66e51ed545818892872a733da4b2",
              "version_major": 2,
              "version_minor": 0
            },
            "text/plain": [
              "Map (num_proc=2):   0%|          | 0/15027 [00:00<?, ? examples/s]"
            ]
          },
          "metadata": {},
          "output_type": "display_data"
        },
        {
          "data": {
            "application/vnd.jupyter.widget-view+json": {
              "model_id": "50315efa8ad248aa886306dd01a6a621",
              "version_major": 2,
              "version_minor": 0
            },
            "text/plain": [
              "Map (num_proc=2):   0%|          | 0/1670 [00:00<?, ? examples/s]"
            ]
          },
          "metadata": {},
          "output_type": "display_data"
        }
      ],
      "source": [
        "common_voice = common_voice.map(prepare_dataset, remove_columns=common_voice.column_names[\"train\"], num_proc=2)"
      ]
    },
    {
      "cell_type": "markdown",
      "id": "263a5a58-0239-4a25-b0df-c625fc9c5810",
      "metadata": {
        "id": "263a5a58-0239-4a25-b0df-c625fc9c5810"
      },
      "source": [
        "## Training and Evaluation"
      ]
    },
    {
      "cell_type": "markdown",
      "id": "a693e768-c5a6-453f-89a1-b601dcf7daf7",
      "metadata": {
        "id": "a693e768-c5a6-453f-89a1-b601dcf7daf7"
      },
      "source": [
        "Now that we've prepared our data, we're ready to dive into the training pipeline.\n",
        "The [🤗 Trainer](https://huggingface.co/transformers/master/main_classes/trainer.html?highlight=trainer)\n",
        "will do much of the heavy lifting for us. All we have to do is:\n",
        "\n",
        "- Load a pre-trained checkpoint: we need to load a pre-trained checkpoint and configure it correctly for training.\n",
        "\n",
        "- Define a data collator: the data collator takes our pre-processed data and prepares PyTorch tensors ready for the model.\n",
        "\n",
        "- Evaluation metrics: during evaluation, we want to evaluate the model using the [word error rate (WER)](https://huggingface.co/metrics/wer) metric. We need to define a `compute_metrics` function that handles this computation.\n",
        "\n",
        "- Define the training configuration: this will be used by the 🤗 Trainer to define the training schedule.\n",
        "\n",
        "Once we've fine-tuned the model, we will evaluate it on the test data to verify that we have correctly trained it\n",
        "to transcribe speech in Hindi."
      ]
    },
    {
      "cell_type": "markdown",
      "id": "daf2a825-6d9f-4a23-b145-c37c0039075b",
      "metadata": {
        "id": "daf2a825-6d9f-4a23-b145-c37c0039075b"
      },
      "source": [
        "### Load a Pre-Trained Checkpoint"
      ]
    },
    {
      "cell_type": "markdown",
      "id": "437a97fa-4864-476b-8abc-f28b8166cfa5",
      "metadata": {
        "id": "437a97fa-4864-476b-8abc-f28b8166cfa5"
      },
      "source": [
        "We'll start our fine-tuning run from the pre-trained Whisper `base` checkpoint,\n",
        "the weights for which we need to load from the Hugging Face Hub. Again, this\n",
        "is trivial through use of 🤗 Transformers!"
      ]
    },
    {
      "cell_type": "code",
      "execution_count": null,
      "id": "5a10cc4b-07ec-4ebd-ac1d-7c601023594f",
      "metadata": {
        "colab": {
          "referenced_widgets": [
            "7c6bcb6697654c8fa22e2ca2486d0148",
            "94df57a880a24600b7455fd9fa4c239f",
            "c511badb7c3247b292b0aae6e599a98f"
          ]
        },
        "execution": {
          "iopub.execute_input": "2025-03-12T17:19:39.761748Z",
          "iopub.status.busy": "2025-03-12T17:19:39.761227Z",
          "iopub.status.idle": "2025-03-12T17:19:46.239135Z",
          "shell.execute_reply": "2025-03-12T17:19:46.237921Z",
          "shell.execute_reply.started": "2025-03-12T17:19:39.761692Z"
        },
        "id": "5a10cc4b-07ec-4ebd-ac1d-7c601023594f",
        "outputId": "0e450219-4a87-431a-a4c7-153a5f50efc5",
        "trusted": true
      },
      "outputs": [
        {
          "data": {
            "application/vnd.jupyter.widget-view+json": {
              "model_id": "7c6bcb6697654c8fa22e2ca2486d0148",
              "version_major": 2,
              "version_minor": 0
            },
            "text/plain": [
              "config.json:   0%|          | 0.00/1.39k [00:00<?, ?B/s]"
            ]
          },
          "metadata": {},
          "output_type": "display_data"
        },
        {
          "data": {
            "application/vnd.jupyter.widget-view+json": {
              "model_id": "94df57a880a24600b7455fd9fa4c239f",
              "version_major": 2,
              "version_minor": 0
            },
            "text/plain": [
              "model.safetensors:   0%|          | 0.00/290M [00:00<?, ?B/s]"
            ]
          },
          "metadata": {},
          "output_type": "display_data"
        },
        {
          "data": {
            "application/vnd.jupyter.widget-view+json": {
              "model_id": "c511badb7c3247b292b0aae6e599a98f",
              "version_major": 2,
              "version_minor": 0
            },
            "text/plain": [
              "generation_config.json:   0%|          | 0.00/3.80k [00:00<?, ?B/s]"
            ]
          },
          "metadata": {},
          "output_type": "display_data"
        }
      ],
      "source": [
        "from transformers import WhisperForConditionalGeneration\n",
        "\n",
        "model = WhisperForConditionalGeneration.from_pretrained(\"Baselhany/Quran_Whisper_base_fine_tune\")"
      ]
    },
    {
      "cell_type": "markdown",
      "id": "a15ead5f-2277-4a39-937b-585c2497b2df",
      "metadata": {
        "id": "a15ead5f-2277-4a39-937b-585c2497b2df"
      },
      "source": [
        "We can disable the automatic language detection task performed during inference, and force the model to generate in Arabic. To do so, we set the [langauge](https://huggingface.co/docs/transformers/en/model_doc/whisper#transformers.WhisperForConditionalGeneration.generate.language)\n",
        "and [task](https://huggingface.co/docs/transformers/en/model_doc/whisper#transformers.WhisperForConditionalGeneration.generate.task)\n",
        "arguments to the generation config. We'll also set any [`forced_decoder_ids`](https://huggingface.co/docs/transformers/main_classes/text_generation#transformers.generation_utils.GenerationMixin.generate.forced_decoder_ids)\n",
        "to None, since this was the legacy way of setting the language and\n",
        "task arguments:"
      ]
    },
    {
      "cell_type": "code",
      "execution_count": null,
      "id": "62038ba3-88ed-4fce-84db-338f50dcd04f",
      "metadata": {
        "execution": {
          "iopub.execute_input": "2025-03-12T17:19:50.748116Z",
          "iopub.status.busy": "2025-03-12T17:19:50.747310Z",
          "iopub.status.idle": "2025-03-12T17:19:50.753178Z",
          "shell.execute_reply": "2025-03-12T17:19:50.752119Z",
          "shell.execute_reply.started": "2025-03-12T17:19:50.748078Z"
        },
        "id": "62038ba3-88ed-4fce-84db-338f50dcd04f",
        "trusted": true
      },
      "outputs": [],
      "source": [
        "model.generation_config.language = \"ar\"\n",
        "model.generation_config.task = \"transcribe\"\n",
        "\n",
        "model.generation_config.forced_decoder_ids = None"
      ]
    },
    {
      "cell_type": "markdown",
      "id": "8d230e6d-624c-400a-bbf5-fa660881df25",
      "metadata": {
        "id": "8d230e6d-624c-400a-bbf5-fa660881df25"
      },
      "source": [
        "### Define a Data Collator"
      ]
    },
    {
      "cell_type": "markdown",
      "id": "04def221-0637-4a69-b242-d3f0c1d0ee78",
      "metadata": {
        "id": "04def221-0637-4a69-b242-d3f0c1d0ee78"
      },
      "source": [
        "The data collator for a sequence-to-sequence speech model is unique in the sense that it\n",
        "treats the `input_features` and `labels` independently: the  `input_features` must be\n",
        "handled by the feature extractor and the `labels` by the tokenizer.\n",
        "\n",
        "The `input_features` are already padded to 30s and converted to a log-Mel spectrogram\n",
        "of fixed dimension by action of the feature extractor, so all we have to do is convert the `input_features`\n",
        "to batched PyTorch tensors. We do this using the feature extractor's `.pad` method with `return_tensors=pt`.\n",
        "\n",
        "The `labels` on the other hand are un-padded. We first pad the sequences\n",
        "to the maximum length in the batch using the tokenizer's `.pad` method. The padding tokens\n",
        "are then replaced by `-100` so that these tokens are **not** taken into account when\n",
        "computing the loss. We then cut the BOS token from the start of the label sequence as we\n",
        "append it later during training.\n",
        "\n",
        "We can leverage the `WhisperProcessor` we defined earlier to perform both the\n",
        "feature extractor and the tokenizer operations:"
      ]
    },
    {
      "cell_type": "code",
      "execution_count": null,
      "id": "8326221e-ec13-4731-bb4e-51e5fc1486c5",
      "metadata": {
        "execution": {
          "iopub.execute_input": "2025-03-12T17:19:55.299301Z",
          "iopub.status.busy": "2025-03-12T17:19:55.298901Z",
          "iopub.status.idle": "2025-03-12T17:19:55.307651Z",
          "shell.execute_reply": "2025-03-12T17:19:55.306423Z",
          "shell.execute_reply.started": "2025-03-12T17:19:55.299271Z"
        },
        "id": "8326221e-ec13-4731-bb4e-51e5fc1486c5",
        "trusted": true
      },
      "outputs": [],
      "source": [
        "import torch\n",
        "\n",
        "from dataclasses import dataclass\n",
        "from typing import Any, Dict, List, Union\n",
        "\n",
        "@dataclass\n",
        "class DataCollatorSpeechSeq2SeqWithPadding:\n",
        "    processor: Any\n",
        "    decoder_start_token_id: int\n",
        "\n",
        "    def __call__(self, features: List[Dict[str, Union[List[int], torch.Tensor]]]) -> Dict[str, torch.Tensor]:\n",
        "        # split inputs and labels since they have to be of different lengths and need different padding methods\n",
        "        # first treat the audio inputs by simply returning torch tensors\n",
        "        input_features = [{\"input_features\": feature[\"input_features\"]} for feature in features]\n",
        "        batch = self.processor.feature_extractor.pad(input_features, return_tensors=\"pt\")\n",
        "\n",
        "        # get the tokenized label sequences\n",
        "        label_features = [{\"input_ids\": feature[\"labels\"]} for feature in features]\n",
        "        # pad the labels to max length\n",
        "        labels_batch = self.processor.tokenizer.pad(label_features, return_tensors=\"pt\")\n",
        "\n",
        "        # replace padding with -100 to ignore loss correctly\n",
        "        labels = labels_batch[\"input_ids\"].masked_fill(labels_batch.attention_mask.ne(1), -100)\n",
        "\n",
        "        # if bos token is appended in previous tokenization step,\n",
        "        # cut bos token here as it's append later anyways\n",
        "        if (labels[:, 0] == self.decoder_start_token_id).all().cpu().item():\n",
        "            labels = labels[:, 1:]\n",
        "\n",
        "        batch[\"labels\"] = labels\n",
        "\n",
        "        return batch"
      ]
    },
    {
      "cell_type": "markdown",
      "id": "3cae7dbf-8a50-456e-a3a8-7fd005390f86",
      "metadata": {
        "id": "3cae7dbf-8a50-456e-a3a8-7fd005390f86"
      },
      "source": [
        "Let's initialise the data collator we've just defined:"
      ]
    },
    {
      "cell_type": "code",
      "execution_count": null,
      "id": "fc834702-c0d3-4a96-b101-7b87be32bf42",
      "metadata": {
        "execution": {
          "iopub.execute_input": "2025-03-12T17:20:04.903101Z",
          "iopub.status.busy": "2025-03-12T17:20:04.902724Z",
          "iopub.status.idle": "2025-03-12T17:20:04.907582Z",
          "shell.execute_reply": "2025-03-12T17:20:04.906489Z",
          "shell.execute_reply.started": "2025-03-12T17:20:04.903072Z"
        },
        "id": "fc834702-c0d3-4a96-b101-7b87be32bf42",
        "trusted": true
      },
      "outputs": [],
      "source": [
        "data_collator = DataCollatorSpeechSeq2SeqWithPadding(\n",
        "    processor=processor,\n",
        "    decoder_start_token_id=model.config.decoder_start_token_id,\n",
        ")"
      ]
    },
    {
      "cell_type": "markdown",
      "id": "d62bb2ab-750a-45e7-82e9-61d6f4805698",
      "metadata": {
        "id": "d62bb2ab-750a-45e7-82e9-61d6f4805698"
      },
      "source": [
        "### Evaluation Metrics"
      ]
    },
    {
      "cell_type": "markdown",
      "id": "66fee1a7-a44c-461e-b047-c3917221572e",
      "metadata": {
        "id": "66fee1a7-a44c-461e-b047-c3917221572e"
      },
      "source": [
        "We'll use the word error rate (WER) metric, the 'de-facto' metric for assessing\n",
        "ASR systems. For more information, refer to the WER [docs](https://huggingface.co/metrics/wer). We'll load the WER metric from 🤗 Evaluate:"
      ]
    },
    {
      "cell_type": "code",
      "execution_count": null,
      "id": "b22b4011-f31f-4b57-b684-c52332f92890",
      "metadata": {
        "execution": {
          "iopub.execute_input": "2025-03-12T18:23:54.942237Z",
          "iopub.status.busy": "2025-03-12T18:23:54.941799Z",
          "iopub.status.idle": "2025-03-12T18:23:56.093102Z",
          "shell.execute_reply": "2025-03-12T18:23:56.091844Z",
          "shell.execute_reply.started": "2025-03-12T18:23:54.942205Z"
        },
        "id": "b22b4011-f31f-4b57-b684-c52332f92890",
        "trusted": true
      },
      "outputs": [],
      "source": [
        "import evaluate\n",
        "\n",
        "wer_metric = evaluate.load(\"wer\")\n",
        "cer_metric = evaluate.load(\"cer\")"
      ]
    },
    {
      "cell_type": "markdown",
      "id": "4f32cab6-31f0-4cb9-af4c-40ba0f5fc508",
      "metadata": {
        "id": "4f32cab6-31f0-4cb9-af4c-40ba0f5fc508"
      },
      "source": [
        "We then simply have to define a function that takes our model\n",
        "predictions and returns the WER and CER metric. This function, called\n",
        "`compute_metrics`, first replaces `-100` with the `pad_token_id`\n",
        "in the `label_ids` (undoing the step we applied in the\n",
        "data collator to ignore padded tokens correctly in the loss).\n",
        "It then decodes the predicted and label ids to strings. Finally,\n",
        "it computes the WER between the predictions and reference labels:"
      ]
    },
    {
      "cell_type": "code",
      "execution_count": null,
      "id": "23959a70-22d0-4ffe-9fa1-72b61e75bb52",
      "metadata": {
        "execution": {
          "iopub.execute_input": "2025-03-12T18:23:58.134778Z",
          "iopub.status.busy": "2025-03-12T18:23:58.134437Z",
          "iopub.status.idle": "2025-03-12T18:23:58.139812Z",
          "shell.execute_reply": "2025-03-12T18:23:58.138728Z",
          "shell.execute_reply.started": "2025-03-12T18:23:58.134753Z"
        },
        "id": "23959a70-22d0-4ffe-9fa1-72b61e75bb52",
        "trusted": true
      },
      "outputs": [],
      "source": [
        "def compute_metrics(pred):\n",
        "    pred_ids = pred.predictions\n",
        "    label_ids = pred.label_ids\n",
        "\n",
        "    # Replace -100 with the pad_token_id\n",
        "    label_ids[label_ids == -100] = tokenizer.pad_token_id\n",
        "\n",
        "    # Decode predictions and references\n",
        "    pred_str = tokenizer.batch_decode(pred_ids, skip_special_tokens=True)\n",
        "    label_str = tokenizer.batch_decode(label_ids, skip_special_tokens=True)\n",
        "\n",
        "    # Compute WER and CER separately\n",
        "    wer = 100 * wer_metric.compute(predictions=pred_str, references=label_str)\n",
        "    cer = 100 * cer_metric.compute(predictions=pred_str, references=label_str)\n",
        "\n",
        "    return {\"wer\": wer, \"cer\": cer}"
      ]
    },
    {
      "cell_type": "markdown",
      "id": "2178dea4-80ca-47b6-b6ea-ba1915c90c06",
      "metadata": {
        "id": "2178dea4-80ca-47b6-b6ea-ba1915c90c06"
      },
      "source": [
        "### Define the Training Configuration"
      ]
    },
    {
      "cell_type": "markdown",
      "id": "c21af1e9-0188-4134-ac82-defc7bdcc436",
      "metadata": {
        "id": "c21af1e9-0188-4134-ac82-defc7bdcc436"
      },
      "source": [
        "In the final step, we define all the parameters related to training. For more detail on the training arguments, refer to the Seq2SeqTrainingArguments [docs](https://huggingface.co/docs/transformers/main_classes/trainer#transformers.Seq2SeqTrainingArguments)."
      ]
    },
    {
      "cell_type": "markdown",
      "id": "Rfcgp5vB88k4",
      "metadata": {
        "id": "Rfcgp5vB88k4"
      },
      "source": [
        "Freezes encoder parameters, verifies they're frozen with assertions, then confirms success - a common transfer learning technique to keep pre-trained weights fixed while training other model parts."
      ]
    },
    {
      "cell_type": "code",
      "execution_count": null,
      "id": "e185f4a3-e212-49cc-ad8c-3d492c4c0ee3",
      "metadata": {
        "execution": {
          "iopub.execute_input": "2025-03-12T18:24:00.391952Z",
          "iopub.status.busy": "2025-03-12T18:24:00.391508Z",
          "iopub.status.idle": "2025-03-12T18:24:00.399700Z",
          "shell.execute_reply": "2025-03-12T18:24:00.398174Z",
          "shell.execute_reply.started": "2025-03-12T18:24:00.391918Z"
        },
        "id": "e185f4a3-e212-49cc-ad8c-3d492c4c0ee3",
        "outputId": "530604f6-3a4d-4738-a384-68b3da1efd81",
        "trusted": true
      },
      "outputs": [
        {
          "name": "stdout",
          "output_type": "stream",
          "text": [
            "Encoder frozen successfully! ✅\n"
          ]
        }
      ],
      "source": [
        "model.model.encoder.requires_grad_(False)\n",
        "\n",
        "for param in model.model.encoder.parameters():\n",
        "    assert param.requires_grad == False\n",
        "print(\"Encoder frozen successfully! ✅\")\n"
      ]
    },
    {
      "cell_type": "code",
      "execution_count": null,
      "id": "0ae3e9af-97b7-4aa0-ae85-20b23b5bcb3a",
      "metadata": {
        "execution": {
          "iopub.execute_input": "2025-03-12T18:24:01.840194Z",
          "iopub.status.busy": "2025-03-12T18:24:01.839810Z",
          "iopub.status.idle": "2025-03-12T18:24:01.883198Z",
          "shell.execute_reply": "2025-03-12T18:24:01.882112Z",
          "shell.execute_reply.started": "2025-03-12T18:24:01.840163Z"
        },
        "id": "0ae3e9af-97b7-4aa0-ae85-20b23b5bcb3a",
        "outputId": "313ae3a1-5857-4b63-8cbe-3c1cd8f16f1b",
        "trusted": true
      },
      "outputs": [
        {
          "name": "stderr",
          "output_type": "stream",
          "text": [
            "/usr/local/lib/python3.10/dist-packages/transformers/training_args.py:1594: FutureWarning: `evaluation_strategy` is deprecated and will be removed in version 4.46 of 🤗 Transformers. Use `eval_strategy` instead\n",
            "  warnings.warn(\n"
          ]
        }
      ],
      "source": [
        "from transformers import Seq2SeqTrainingArguments\n",
        "\n",
        "training_args = Seq2SeqTrainingArguments(\n",
        "    output_dir=\"./whisper-base-ar-upd\",  # Change to a repo name of your choice\n",
        "    per_device_train_batch_size=16,  # train_batch_size\n",
        "    per_device_eval_batch_size=16,  # eval_batch_size\n",
        "    gradient_accumulation_steps=1,  # Updated from 1 to 4\n",
        "    learning_rate=1e-4,  # Updated from 1e-5 to 1e-4\n",
        "    warmup_steps=500,  # lr_scheduler_warmup_steps\n",
        "    max_steps=6000,  # num_epochs\n",
        "    gradient_checkpointing=True,\n",
        "    fp16=True,  # mixed_precision_training: Native AMP (this enables AMP)\n",
        "    evaluation_strategy=\"steps\",\n",
        "    predict_with_generate=True,\n",
        "    generation_max_length=225,\n",
        "    save_steps=1000,\n",
        "    eval_steps=1000,\n",
        "    logging_steps=25,\n",
        "    report_to=[\"tensorboard\"],\n",
        "    load_best_model_at_end=True,\n",
        "    metric_for_best_model=\"wer\",\n",
        "    greater_is_better=False,\n",
        "    push_to_hub=True,\n",
        "    seed=42,  # Set seed for reproducibility\n",
        "    optim=\"adamw_torch\",  # optimizer\n",
        "    adam_beta1=0.9,  # AdamW betas\n",
        "    adam_beta2=0.999,\n",
        "    save_total_limit=3,\n",
        "    adam_epsilon=1e-8,  # Optimizer epsilon\n",
        "    lr_scheduler_type=\"cosine\",  # Updated LR scheduler\n",
        ")\n"
      ]
    },
    {
      "cell_type": "markdown",
      "id": "b3a944d8-3112-4552-82a0-be25988b3857",
      "metadata": {
        "id": "b3a944d8-3112-4552-82a0-be25988b3857"
      },
      "source": [
        "**Note**: if one does not want to upload the model checkpoints to the Hub,\n",
        "set `push_to_hub=False`."
      ]
    },
    {
      "cell_type": "markdown",
      "id": "bac29114-d226-4f54-97cf-8718c9f94e1e",
      "metadata": {
        "id": "bac29114-d226-4f54-97cf-8718c9f94e1e"
      },
      "source": [
        "We can forward the training arguments to the 🤗 Trainer along with our model,\n",
        "dataset, data collator and `compute_metrics` function:"
      ]
    },
    {
      "cell_type": "code",
      "execution_count": null,
      "id": "d546d7fe-0543-479a-b708-2ebabec19493",
      "metadata": {
        "execution": {
          "iopub.execute_input": "2025-03-12T18:24:04.152826Z",
          "iopub.status.busy": "2025-03-12T18:24:04.152432Z",
          "iopub.status.idle": "2025-03-12T18:24:04.249782Z",
          "shell.execute_reply": "2025-03-12T18:24:04.248774Z",
          "shell.execute_reply.started": "2025-03-12T18:24:04.152799Z"
        },
        "id": "d546d7fe-0543-479a-b708-2ebabec19493",
        "outputId": "725487a2-fad5-4982-99c5-ccfe74a6257e",
        "trusted": true
      },
      "outputs": [
        {
          "name": "stderr",
          "output_type": "stream",
          "text": [
            "<ipython-input-34-69786f5d74d5>:3: FutureWarning: `tokenizer` is deprecated and will be removed in version 5.0.0 for `Seq2SeqTrainer.__init__`. Use `processing_class` instead.\n",
            "  trainer = Seq2SeqTrainer(\n"
          ]
        }
      ],
      "source": [
        "from transformers import Seq2SeqTrainer\n",
        "\n",
        "trainer = Seq2SeqTrainer(\n",
        "    args=training_args,\n",
        "    model=model,\n",
        "    train_dataset=common_voice[\"train\"],\n",
        "    eval_dataset=common_voice[\"test\"],\n",
        "    data_collator=data_collator,\n",
        "    compute_metrics=compute_metrics,\n",
        "    tokenizer=processor.feature_extractor,\n",
        ")"
      ]
    },
    {
      "cell_type": "markdown",
      "id": "uOrRhDGtN5S4",
      "metadata": {
        "id": "uOrRhDGtN5S4"
      },
      "source": [
        "We'll save the processor object once before starting training. Since the processor is not trainable, it won't change over the course of training:"
      ]
    },
    {
      "cell_type": "code",
      "execution_count": null,
      "id": "-2zQwMfEOBJq",
      "metadata": {
        "execution": {
          "iopub.execute_input": "2025-03-12T18:24:05.827607Z",
          "iopub.status.busy": "2025-03-12T18:24:05.827270Z",
          "iopub.status.idle": "2025-03-12T18:24:06.234656Z",
          "shell.execute_reply": "2025-03-12T18:24:06.233585Z",
          "shell.execute_reply.started": "2025-03-12T18:24:05.827582Z"
        },
        "id": "-2zQwMfEOBJq",
        "outputId": "14ecff17-8e57-4cba-b76b-5b4f00435105",
        "trusted": true
      },
      "outputs": [
        {
          "data": {
            "text/plain": [
              "[]"
            ]
          },
          "execution_count": 35,
          "metadata": {},
          "output_type": "execute_result"
        }
      ],
      "source": [
        "processor.save_pretrained(training_args.output_dir)"
      ]
    },
    {
      "cell_type": "markdown",
      "id": "7f404cf9-4345-468c-8196-4bd101d9bd51",
      "metadata": {
        "id": "7f404cf9-4345-468c-8196-4bd101d9bd51"
      },
      "source": [
        "### Training"
      ]
    },
    {
      "cell_type": "code",
      "execution_count": null,
      "id": "ee8b7b8e-1c9a-4d77-9137-1778a629e6de",
      "metadata": {
        "execution": {
          "iopub.execute_input": "2025-03-12T18:24:09.793230Z",
          "iopub.status.busy": "2025-03-12T18:24:09.792853Z",
          "iopub.status.idle": "2025-03-12T23:54:05.423249Z",
          "shell.execute_reply": "2025-03-12T23:54:05.422408Z",
          "shell.execute_reply.started": "2025-03-12T18:24:09.793198Z"
        },
        "id": "ee8b7b8e-1c9a-4d77-9137-1778a629e6de",
        "outputId": "e5580141-dd1f-4c6b-a5dc-42f58560d462",
        "trusted": true
      },
      "outputs": [
        {
          "name": "stderr",
          "output_type": "stream",
          "text": [
            "/usr/local/lib/python3.10/dist-packages/torch/utils/checkpoint.py:87: UserWarning: None of the inputs have requires_grad=True. Gradients will be None\n",
            "  warnings.warn(\n"
          ]
        },
        {
          "data": {
            "text/html": [
              "\n",
              "    <div>\n",
              "      \n",
              "      <progress value='6000' max='6000' style='width:300px; height:20px; vertical-align: middle;'></progress>\n",
              "      [6000/6000 5:29:39, Epoch 6/7]\n",
              "    </div>\n",
              "    <table border=\"1\" class=\"dataframe\">\n",
              "  <thead>\n",
              " <tr style=\"text-align: left;\">\n",
              "      <th>Step</th>\n",
              "      <th>Training Loss</th>\n",
              "      <th>Validation Loss</th>\n",
              "      <th>Wer</th>\n",
              "      <th>Cer</th>\n",
              "    </tr>\n",
              "  </thead>\n",
              "  <tbody>\n",
              "    <tr>\n",
              "      <td>1000</td>\n",
              "      <td>0.107000</td>\n",
              "      <td>0.141239</td>\n",
              "      <td>26.075949</td>\n",
              "      <td>10.274062</td>\n",
              "    </tr>\n",
              "    <tr>\n",
              "      <td>2000</td>\n",
              "      <td>0.092700</td>\n",
              "      <td>0.115870</td>\n",
              "      <td>21.841197</td>\n",
              "      <td>9.195613</td>\n",
              "    </tr>\n",
              "    <tr>\n",
              "      <td>3000</td>\n",
              "      <td>0.060100</td>\n",
              "      <td>0.115543</td>\n",
              "      <td>22.036824</td>\n",
              "      <td>9.281994</td>\n",
              "    </tr>\n",
              "    <tr>\n",
              "      <td>4000</td>\n",
              "      <td>0.042000</td>\n",
              "      <td>0.113484</td>\n",
              "      <td>18.711162</td>\n",
              "      <td>8.323954</td>\n",
              "    </tr>\n",
              "    <tr>\n",
              "      <td>5000</td>\n",
              "      <td>0.018000</td>\n",
              "      <td>0.122626</td>\n",
              "      <td>17.951669</td>\n",
              "      <td>8.149884</td>\n",
              "    </tr>\n",
              "    <tr>\n",
              "      <td>6000</td>\n",
              "      <td>0.006800</td>\n",
              "      <td>0.124392</td>\n",
              "      <td>18.308400</td>\n",
              "      <td>8.309557</td>\n",
              "    </tr>\n",
              "  </tbody>\n",
              "</table><p>"
            ],
            "text/plain": [
              "<IPython.core.display.HTML object>"
            ]
          },
          "metadata": {},
          "output_type": "display_data"
        },
        {
          "name": "stderr",
          "output_type": "stream",
          "text": [
            "/usr/local/lib/python3.10/dist-packages/torch/utils/checkpoint.py:87: UserWarning: None of the inputs have requires_grad=True. Gradients will be None\n",
            "  warnings.warn(\n",
            "/usr/local/lib/python3.10/dist-packages/torch/utils/checkpoint.py:87: UserWarning: None of the inputs have requires_grad=True. Gradients will be None\n",
            "  warnings.warn(\n",
            "/usr/local/lib/python3.10/dist-packages/torch/utils/checkpoint.py:87: UserWarning: None of the inputs have requires_grad=True. Gradients will be None\n",
            "  warnings.warn(\n",
            "/usr/local/lib/python3.10/dist-packages/torch/utils/checkpoint.py:87: UserWarning: None of the inputs have requires_grad=True. Gradients will be None\n",
            "  warnings.warn(\n",
            "/usr/local/lib/python3.10/dist-packages/torch/utils/checkpoint.py:87: UserWarning: None of the inputs have requires_grad=True. Gradients will be None\n",
            "  warnings.warn(\n",
            "There were missing keys in the checkpoint model loaded: ['proj_out.weight'].\n"
          ]
        },
        {
          "data": {
            "text/plain": [
              "TrainOutput(global_step=6000, training_loss=0.06950758186231057, metrics={'train_runtime': 19784.2501, 'train_samples_per_second': 4.852, 'train_steps_per_second': 0.303, 'total_flos': 6.22150055165952e+18, 'train_loss': 0.06950758186231057, 'epoch': 6.382978723404255})"
            ]
          },
          "execution_count": 36,
          "metadata": {},
          "output_type": "execute_result"
        }
      ],
      "source": [
        "trainer.train()"
      ]
    },
    {
      "cell_type": "markdown",
      "id": "810ced54-7187-4a06-b2fe-ba6dcca94dc3",
      "metadata": {
        "id": "810ced54-7187-4a06-b2fe-ba6dcca94dc3"
      },
      "source": [
        "Our best WER is 18.3% - Perfect for 5h of training data! We can make our model more accessible on the Hub with appropriate tags and README information.\n",
        "You can change these values to match your dataset, language and model\n",
        "name accordingly:"
      ]
    },
    {
      "cell_type": "code",
      "execution_count": null,
      "id": "c704f91e-241b-48c9-b8e0-f0da396a9663",
      "metadata": {
        "execution": {
          "iopub.execute_input": "2025-03-12T23:54:36.469467Z",
          "iopub.status.busy": "2025-03-12T23:54:36.469131Z",
          "iopub.status.idle": "2025-03-12T23:54:36.474261Z",
          "shell.execute_reply": "2025-03-12T23:54:36.473214Z",
          "shell.execute_reply.started": "2025-03-12T23:54:36.469441Z"
        },
        "id": "c704f91e-241b-48c9-b8e0-f0da396a9663",
        "trusted": true
      },
      "outputs": [],
      "source": [
        "kwargs = {\n",
        "    \"dataset_tags\": \"private\",\n",
        "    \"dataset\": \"private\",  # a 'pretty' name for the training dataset\n",
        "    \"dataset_args\": \"config: ar, split: test\",\n",
        "    \"language\": \"ar\",\n",
        "    \"model_name\": \"Whisper base ar - Mohamed Ahmed-Mahmoud Nasser\",  # a 'pretty' name for our model\n",
        "    \"finetuned_from\": \"openai/whisper-base\",\n",
        "    \"tasks\": \"automatic-speech-recognition\",\n",
        "}"
      ]
    },
    {
      "cell_type": "markdown",
      "id": "090d676a-f944-4297-a938-a40eda0b2b68",
      "metadata": {
        "id": "090d676a-f944-4297-a938-a40eda0b2b68"
      },
      "source": [
        "The training results can now be uploaded to the Hub. To do so, execute the `push_to_hub` command and save the preprocessor object we created:"
      ]
    },
    {
      "cell_type": "code",
      "execution_count": null,
      "id": "d7030622-caf7-4039-939b-6195cdaa2585",
      "metadata": {
        "execution": {
          "iopub.execute_input": "2025-03-12T23:54:44.278831Z",
          "iopub.status.busy": "2025-03-12T23:54:44.278489Z",
          "iopub.status.idle": "2025-03-12T23:54:49.768208Z",
          "shell.execute_reply": "2025-03-12T23:54:49.766851Z",
          "shell.execute_reply.started": "2025-03-12T23:54:44.278795Z"
        },
        "id": "d7030622-caf7-4039-939b-6195cdaa2585",
        "outputId": "4a811493-a174-4832-c696-592bd9ad6a65",
        "trusted": true
      },
      "outputs": [
        {
          "data": {
            "text/plain": [
              "CommitInfo(commit_url='https://huggingface.co/Mohamed2210/whisper-base-ar-upd/commit/765ba3eea022dbab6b0dc45c740e482069664a77', commit_message='End of training', commit_description='', oid='765ba3eea022dbab6b0dc45c740e482069664a77', pr_url=None, repo_url=RepoUrl('https://huggingface.co/Mohamed2210/whisper-base-ar-upd', endpoint='https://huggingface.co', repo_type='model', repo_id='Mohamed2210/whisper-base-ar-upd'), pr_revision=None, pr_num=None)"
            ]
          },
          "execution_count": 38,
          "metadata": {},
          "output_type": "execute_result"
        }
      ],
      "source": [
        "trainer.push_to_hub(**kwargs)"
      ]
    },
    {
      "cell_type": "markdown",
      "id": "ca743fbd-602c-48d4-ba8d-a2fe60af64ba",
      "metadata": {
        "id": "ca743fbd-602c-48d4-ba8d-a2fe60af64ba"
      },
      "source": [
        "## Closing Remarks"
      ]
    },
    {
      "cell_type": "markdown",
      "id": "7f737783-2870-4e35-aa11-86a42d7d997a",
      "metadata": {
        "id": "7f737783-2870-4e35-aa11-86a42d7d997a"
      },
      "source": [
        "In this blog, we covered a step-by-step guide on fine-tuning Whisper for multilingual ASR\n",
        "using 🤗 Datasets, Transformers and the Hugging Face Hub. For more details on the Whisper model, the Common Voice dataset and the theory behind fine-tuning, refere to the accompanying [blog post](https://huggingface.co/blog/fine-tune-whisper). If you're interested in fine-tuning other\n",
        "Transformers models, both for English and multilingual ASR, be sure to check out the\n",
        "examples scripts at [examples/pytorch/speech-recognition](https://github.com/huggingface/transformers/tree/main/examples/pytorch/speech-recognition)."
      ]
    }
  ],
  "metadata": {
    "accelerator": "GPU",
    "colab": {
      "gpuType": "T4",
      "provenance": []
    },
    "kaggle": {
      "accelerator": "gpu",
      "dataSources": [],
      "dockerImageVersionId": 30919,
      "isGpuEnabled": true,
      "isInternetEnabled": true,
      "language": "python",
      "sourceType": "notebook"
    },
    "kernelspec": {
      "display_name": "Python 3",
      "language": "python",
      "name": "python3"
    },
    "language_info": {
      "codemirror_mode": {
        "name": "ipython",
        "version": 3
      },
      "file_extension": ".py",
      "mimetype": "text/x-python",
      "name": "python",
      "nbconvert_exporter": "python",
      "pygments_lexer": "ipython3",
      "version": "3.10.12"
    }
  },
  "nbformat": 4,
  "nbformat_minor": 5
}
